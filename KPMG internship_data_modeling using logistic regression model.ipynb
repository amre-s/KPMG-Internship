{
 "cells": [
  {
   "cell_type": "code",
   "execution_count": 85,
   "metadata": {},
   "outputs": [],
   "source": [
    "# Data Modelling - Using Logistic Regression"
   ]
  },
  {
   "cell_type": "code",
   "execution_count": 86,
   "metadata": {},
   "outputs": [],
   "source": [
    "# The key idea is to identify valuable customers by using profit from a customer as a measure. \n",
    "#In our scenario weconvert our problem into classification problem by creating a feature profit_binary. \n",
    "#Profit_binary is set to 1 if the profit from the customer is more than mean value. and set to 0 if it is less than profit mean value\n",
    "#In our data modelling step we will predict if the profit from a customer is greater than the average profit or less than it."
   ]
  },
  {
   "cell_type": "code",
   "execution_count": 87,
   "metadata": {},
   "outputs": [],
   "source": [
    "import pandas as pd\n",
    "import numpy as np"
   ]
  },
  {
   "cell_type": "code",
   "execution_count": 88,
   "metadata": {},
   "outputs": [],
   "source": [
    "customer_input_train = pd.read_csv('X_train.csv')\n",
    "customer_input_test = pd.read_csv('X_test.csv')\n",
    "customer_target_train = pd.read_csv('Y_train.csv')\n",
    "customer_target_test = pd.read_csv('Y_test.csv')"
   ]
  },
  {
   "cell_type": "code",
   "execution_count": 89,
   "metadata": {},
   "outputs": [],
   "source": [
    "# All Categorical columns will have a worst category(least Weight of Evidence) in them which we dont include for analysis and keep them as ref_categories.\n",
    "# If all the categories of a predictor are 0 then it means the one in ref_category has a value 1."
   ]
  },
  {
   "cell_type": "code",
   "execution_count": 90,
   "metadata": {},
   "outputs": [],
   "source": [
    "input_with_ref_Categories = customer_input_train.reindex(columns = ['gender:F', 'gender:M', 'wealth_segment:Affluent Customer',\n",
    "       'wealth_segment:High Net Worth', 'wealth_segment:Mass Customer',\n",
    "       'owns_car:No', 'owns_car:Yes', 'state:NSW', 'state:QLD',\n",
    "       'state:VIC', 'job_industry_category:Financial Services',\n",
    "       'job_industry_category:Manufacturing',\n",
    "       'job_industry_category:Retail',\n",
    "       'job_industry_category:Telecommunications',\n",
    "       'job_industry_category:unknown_category',\n",
    "       'job_industry_category : IT_Retail',\n",
    "       'job_industry_category : Health_Entertainment',\n",
    "       'job_industry_category:Agri_property', 'Age:15-16', 'Age:17',\n",
    "       'Age:18-20', 'Age:21-24', 'Age:25-26', 'Age:27-28', 'Age:29-32',\n",
    "       'Age:33-35', 'Age:36', 'Age:37-41', 'Age:42', 'Age:43-45',\n",
    "       'Age:46-48', 'Age:49-51', 'Age:52', 'Age:53-55', 'Age:56-59',\n",
    "       'Age:60', 'Age:61-64', 'Age:>=65', 'property_valuation : 1',\n",
    "       'property_valuation : 2-3', 'property_valuation : 4',\n",
    "       'property_valuation : 5-6', 'property_valuation : 7-9',\n",
    "       'property_valuation : 10-12', 'property_valuation : 12',\n",
    "       'tenure:1-3', 'tenure:4-6', 'tenure:7-11', 'tenure:12-13',\n",
    "       'tenure:14', 'tenure:15', 'tenure:16-18', 'tenure:19',\n",
    "       'tenure:>=20', 'past_3_years_bike_related_purchases:0-2',\n",
    "       'past_3_years_bike_related_purchases:3-9',\n",
    "       'past_3_years_bike_related_purchases:10',\n",
    "       'past_3_years_bike_related_purchases:11-13',\n",
    "       'past_3_years_bike_related_purchases:14-15',\n",
    "       'past_3_years_bike_related_purchases:16',\n",
    "       'past_3_years_bike_related_purchases:17-18',\n",
    "       'past_3_years_bike_related_purchases:19',\n",
    "       'past_3_years_bike_related_purchases:20',\n",
    "       'past_3_years_bike_related_purchases:21',\n",
    "       'past_3_years_bike_related_purchases:22-26',\n",
    "       'past_3_years_bike_related_purchases:27-28',\n",
    "       'past_3_years_bike_related_purchases:29-33',\n",
    "       'past_3_years_bike_related_purchases:34-38',\n",
    "       'past_3_years_bike_related_purchases:39',\n",
    "       'past_3_years_bike_related_purchases:40-47',\n",
    "       'past_3_years_bike_related_purchases:48-50',\n",
    "       'past_3_years_bike_related_purchases:51',\n",
    "       'past_3_years_bike_related_purchases:52-55',\n",
    "       'past_3_years_bike_related_purchases:56',\n",
    "       'past_3_years_bike_related_purchases:57-61',\n",
    "       'past_3_years_bike_related_purchases:62-66',\n",
    "       'past_3_years_bike_related_purchases:67-68',\n",
    "       'past_3_years_bike_related_purchases:69-77',\n",
    "       'past_3_years_bike_related_purchases:78',\n",
    "       'past_3_years_bike_related_purchases:79-80',\n",
    "       'past_3_years_bike_related_purchases:81',\n",
    "       'past_3_years_bike_related_purchases:82-85',\n",
    "       'past_3_years_bike_related_purchases:86-87',\n",
    "       'past_3_years_bike_related_purchases:88',\n",
    "       'past_3_years_bike_related_purchases:89',\n",
    "       'past_3_years_bike_related_purchases:90',\n",
    "       'past_3_years_bike_related_purchases:91',\n",
    "       'past_3_years_bike_related_purchases:92-95',\n",
    "       'past_3_years_bike_related_purchases:96',\n",
    "       'past_3_years_bike_related_purchases:97-98',\n",
    "       'past_3_years_bike_related_purchases:99'])"
   ]
  },
  {
   "cell_type": "code",
   "execution_count": 91,
   "metadata": {},
   "outputs": [],
   "source": [
    "ref_categories = ['gender:M','tenure:>=20','Age:>=65','property_valuation : 2-3','past_3_years_bike_related_purchases:22-26','job_industry_category:Telecommunications','state:QLD','owns_car:No','wealth_segment:Affluent Customer']"
   ]
  },
  {
   "cell_type": "code",
   "execution_count": 92,
   "metadata": {},
   "outputs": [],
   "source": [
    "# We drop all the worst category values"
   ]
  },
  {
   "cell_type": "code",
   "execution_count": 93,
   "metadata": {},
   "outputs": [],
   "source": [
    "input_train = input_with_ref_Categories.drop(ref_categories,axis = 1)"
   ]
  },
  {
   "cell_type": "code",
   "execution_count": 94,
   "metadata": {},
   "outputs": [
    {
     "data": {
      "text/html": [
       "<div>\n",
       "<style scoped>\n",
       "    .dataframe tbody tr th:only-of-type {\n",
       "        vertical-align: middle;\n",
       "    }\n",
       "\n",
       "    .dataframe tbody tr th {\n",
       "        vertical-align: top;\n",
       "    }\n",
       "\n",
       "    .dataframe thead th {\n",
       "        text-align: right;\n",
       "    }\n",
       "</style>\n",
       "<table border=\"1\" class=\"dataframe\">\n",
       "  <thead>\n",
       "    <tr style=\"text-align: right;\">\n",
       "      <th></th>\n",
       "      <th>gender:F</th>\n",
       "      <th>wealth_segment:High Net Worth</th>\n",
       "      <th>wealth_segment:Mass Customer</th>\n",
       "      <th>owns_car:Yes</th>\n",
       "      <th>state:NSW</th>\n",
       "      <th>state:VIC</th>\n",
       "      <th>job_industry_category:Financial Services</th>\n",
       "      <th>job_industry_category:Manufacturing</th>\n",
       "      <th>job_industry_category:Retail</th>\n",
       "      <th>job_industry_category:unknown_category</th>\n",
       "      <th>...</th>\n",
       "      <th>past_3_years_bike_related_purchases:82-85</th>\n",
       "      <th>past_3_years_bike_related_purchases:86-87</th>\n",
       "      <th>past_3_years_bike_related_purchases:88</th>\n",
       "      <th>past_3_years_bike_related_purchases:89</th>\n",
       "      <th>past_3_years_bike_related_purchases:90</th>\n",
       "      <th>past_3_years_bike_related_purchases:91</th>\n",
       "      <th>past_3_years_bike_related_purchases:92-95</th>\n",
       "      <th>past_3_years_bike_related_purchases:96</th>\n",
       "      <th>past_3_years_bike_related_purchases:97-98</th>\n",
       "      <th>past_3_years_bike_related_purchases:99</th>\n",
       "    </tr>\n",
       "  </thead>\n",
       "  <tbody>\n",
       "    <tr>\n",
       "      <th>0</th>\n",
       "      <td>0</td>\n",
       "      <td>0</td>\n",
       "      <td>1</td>\n",
       "      <td>0</td>\n",
       "      <td>0</td>\n",
       "      <td>0</td>\n",
       "      <td>0</td>\n",
       "      <td>0</td>\n",
       "      <td>0</td>\n",
       "      <td>1</td>\n",
       "      <td>...</td>\n",
       "      <td>0</td>\n",
       "      <td>0</td>\n",
       "      <td>0</td>\n",
       "      <td>0</td>\n",
       "      <td>0</td>\n",
       "      <td>0</td>\n",
       "      <td>0</td>\n",
       "      <td>0</td>\n",
       "      <td>0</td>\n",
       "      <td>0</td>\n",
       "    </tr>\n",
       "    <tr>\n",
       "      <th>1</th>\n",
       "      <td>1</td>\n",
       "      <td>0</td>\n",
       "      <td>1</td>\n",
       "      <td>1</td>\n",
       "      <td>1</td>\n",
       "      <td>0</td>\n",
       "      <td>1</td>\n",
       "      <td>0</td>\n",
       "      <td>0</td>\n",
       "      <td>0</td>\n",
       "      <td>...</td>\n",
       "      <td>0</td>\n",
       "      <td>0</td>\n",
       "      <td>0</td>\n",
       "      <td>0</td>\n",
       "      <td>0</td>\n",
       "      <td>0</td>\n",
       "      <td>0</td>\n",
       "      <td>0</td>\n",
       "      <td>0</td>\n",
       "      <td>0</td>\n",
       "    </tr>\n",
       "    <tr>\n",
       "      <th>2</th>\n",
       "      <td>0</td>\n",
       "      <td>0</td>\n",
       "      <td>1</td>\n",
       "      <td>0</td>\n",
       "      <td>1</td>\n",
       "      <td>0</td>\n",
       "      <td>0</td>\n",
       "      <td>1</td>\n",
       "      <td>0</td>\n",
       "      <td>0</td>\n",
       "      <td>...</td>\n",
       "      <td>0</td>\n",
       "      <td>1</td>\n",
       "      <td>0</td>\n",
       "      <td>0</td>\n",
       "      <td>0</td>\n",
       "      <td>0</td>\n",
       "      <td>0</td>\n",
       "      <td>0</td>\n",
       "      <td>0</td>\n",
       "      <td>0</td>\n",
       "    </tr>\n",
       "    <tr>\n",
       "      <th>3</th>\n",
       "      <td>0</td>\n",
       "      <td>0</td>\n",
       "      <td>1</td>\n",
       "      <td>1</td>\n",
       "      <td>0</td>\n",
       "      <td>0</td>\n",
       "      <td>1</td>\n",
       "      <td>0</td>\n",
       "      <td>0</td>\n",
       "      <td>0</td>\n",
       "      <td>...</td>\n",
       "      <td>0</td>\n",
       "      <td>0</td>\n",
       "      <td>0</td>\n",
       "      <td>0</td>\n",
       "      <td>0</td>\n",
       "      <td>0</td>\n",
       "      <td>0</td>\n",
       "      <td>0</td>\n",
       "      <td>0</td>\n",
       "      <td>0</td>\n",
       "    </tr>\n",
       "    <tr>\n",
       "      <th>4</th>\n",
       "      <td>1</td>\n",
       "      <td>0</td>\n",
       "      <td>0</td>\n",
       "      <td>1</td>\n",
       "      <td>1</td>\n",
       "      <td>0</td>\n",
       "      <td>1</td>\n",
       "      <td>0</td>\n",
       "      <td>0</td>\n",
       "      <td>0</td>\n",
       "      <td>...</td>\n",
       "      <td>0</td>\n",
       "      <td>0</td>\n",
       "      <td>0</td>\n",
       "      <td>0</td>\n",
       "      <td>0</td>\n",
       "      <td>0</td>\n",
       "      <td>0</td>\n",
       "      <td>0</td>\n",
       "      <td>0</td>\n",
       "      <td>0</td>\n",
       "    </tr>\n",
       "    <tr>\n",
       "      <th>...</th>\n",
       "      <td>...</td>\n",
       "      <td>...</td>\n",
       "      <td>...</td>\n",
       "      <td>...</td>\n",
       "      <td>...</td>\n",
       "      <td>...</td>\n",
       "      <td>...</td>\n",
       "      <td>...</td>\n",
       "      <td>...</td>\n",
       "      <td>...</td>\n",
       "      <td>...</td>\n",
       "      <td>...</td>\n",
       "      <td>...</td>\n",
       "      <td>...</td>\n",
       "      <td>...</td>\n",
       "      <td>...</td>\n",
       "      <td>...</td>\n",
       "      <td>...</td>\n",
       "      <td>...</td>\n",
       "      <td>...</td>\n",
       "      <td>...</td>\n",
       "    </tr>\n",
       "    <tr>\n",
       "      <th>2611</th>\n",
       "      <td>0</td>\n",
       "      <td>1</td>\n",
       "      <td>0</td>\n",
       "      <td>0</td>\n",
       "      <td>0</td>\n",
       "      <td>1</td>\n",
       "      <td>1</td>\n",
       "      <td>0</td>\n",
       "      <td>0</td>\n",
       "      <td>0</td>\n",
       "      <td>...</td>\n",
       "      <td>0</td>\n",
       "      <td>0</td>\n",
       "      <td>1</td>\n",
       "      <td>0</td>\n",
       "      <td>0</td>\n",
       "      <td>0</td>\n",
       "      <td>0</td>\n",
       "      <td>0</td>\n",
       "      <td>0</td>\n",
       "      <td>0</td>\n",
       "    </tr>\n",
       "    <tr>\n",
       "      <th>2612</th>\n",
       "      <td>0</td>\n",
       "      <td>0</td>\n",
       "      <td>1</td>\n",
       "      <td>0</td>\n",
       "      <td>0</td>\n",
       "      <td>0</td>\n",
       "      <td>0</td>\n",
       "      <td>0</td>\n",
       "      <td>0</td>\n",
       "      <td>0</td>\n",
       "      <td>...</td>\n",
       "      <td>0</td>\n",
       "      <td>0</td>\n",
       "      <td>0</td>\n",
       "      <td>0</td>\n",
       "      <td>0</td>\n",
       "      <td>0</td>\n",
       "      <td>1</td>\n",
       "      <td>0</td>\n",
       "      <td>0</td>\n",
       "      <td>0</td>\n",
       "    </tr>\n",
       "    <tr>\n",
       "      <th>2613</th>\n",
       "      <td>0</td>\n",
       "      <td>0</td>\n",
       "      <td>0</td>\n",
       "      <td>0</td>\n",
       "      <td>0</td>\n",
       "      <td>1</td>\n",
       "      <td>0</td>\n",
       "      <td>1</td>\n",
       "      <td>0</td>\n",
       "      <td>0</td>\n",
       "      <td>...</td>\n",
       "      <td>0</td>\n",
       "      <td>0</td>\n",
       "      <td>0</td>\n",
       "      <td>0</td>\n",
       "      <td>0</td>\n",
       "      <td>0</td>\n",
       "      <td>0</td>\n",
       "      <td>0</td>\n",
       "      <td>0</td>\n",
       "      <td>0</td>\n",
       "    </tr>\n",
       "    <tr>\n",
       "      <th>2614</th>\n",
       "      <td>1</td>\n",
       "      <td>0</td>\n",
       "      <td>0</td>\n",
       "      <td>0</td>\n",
       "      <td>1</td>\n",
       "      <td>0</td>\n",
       "      <td>0</td>\n",
       "      <td>0</td>\n",
       "      <td>1</td>\n",
       "      <td>0</td>\n",
       "      <td>...</td>\n",
       "      <td>0</td>\n",
       "      <td>0</td>\n",
       "      <td>0</td>\n",
       "      <td>0</td>\n",
       "      <td>0</td>\n",
       "      <td>0</td>\n",
       "      <td>0</td>\n",
       "      <td>0</td>\n",
       "      <td>0</td>\n",
       "      <td>0</td>\n",
       "    </tr>\n",
       "    <tr>\n",
       "      <th>2615</th>\n",
       "      <td>0</td>\n",
       "      <td>0</td>\n",
       "      <td>1</td>\n",
       "      <td>0</td>\n",
       "      <td>1</td>\n",
       "      <td>0</td>\n",
       "      <td>0</td>\n",
       "      <td>0</td>\n",
       "      <td>0</td>\n",
       "      <td>0</td>\n",
       "      <td>...</td>\n",
       "      <td>0</td>\n",
       "      <td>0</td>\n",
       "      <td>0</td>\n",
       "      <td>0</td>\n",
       "      <td>0</td>\n",
       "      <td>0</td>\n",
       "      <td>0</td>\n",
       "      <td>0</td>\n",
       "      <td>0</td>\n",
       "      <td>0</td>\n",
       "    </tr>\n",
       "  </tbody>\n",
       "</table>\n",
       "<p>2616 rows × 82 columns</p>\n",
       "</div>"
      ],
      "text/plain": [
       "      gender:F  wealth_segment:High Net Worth  wealth_segment:Mass Customer  \\\n",
       "0            0                              0                             1   \n",
       "1            1                              0                             1   \n",
       "2            0                              0                             1   \n",
       "3            0                              0                             1   \n",
       "4            1                              0                             0   \n",
       "...        ...                            ...                           ...   \n",
       "2611         0                              1                             0   \n",
       "2612         0                              0                             1   \n",
       "2613         0                              0                             0   \n",
       "2614         1                              0                             0   \n",
       "2615         0                              0                             1   \n",
       "\n",
       "      owns_car:Yes  state:NSW  state:VIC  \\\n",
       "0                0          0          0   \n",
       "1                1          1          0   \n",
       "2                0          1          0   \n",
       "3                1          0          0   \n",
       "4                1          1          0   \n",
       "...            ...        ...        ...   \n",
       "2611             0          0          1   \n",
       "2612             0          0          0   \n",
       "2613             0          0          1   \n",
       "2614             0          1          0   \n",
       "2615             0          1          0   \n",
       "\n",
       "      job_industry_category:Financial Services  \\\n",
       "0                                            0   \n",
       "1                                            1   \n",
       "2                                            0   \n",
       "3                                            1   \n",
       "4                                            1   \n",
       "...                                        ...   \n",
       "2611                                         1   \n",
       "2612                                         0   \n",
       "2613                                         0   \n",
       "2614                                         0   \n",
       "2615                                         0   \n",
       "\n",
       "      job_industry_category:Manufacturing  job_industry_category:Retail  \\\n",
       "0                                       0                             0   \n",
       "1                                       0                             0   \n",
       "2                                       1                             0   \n",
       "3                                       0                             0   \n",
       "4                                       0                             0   \n",
       "...                                   ...                           ...   \n",
       "2611                                    0                             0   \n",
       "2612                                    0                             0   \n",
       "2613                                    1                             0   \n",
       "2614                                    0                             1   \n",
       "2615                                    0                             0   \n",
       "\n",
       "      job_industry_category:unknown_category  ...  \\\n",
       "0                                          1  ...   \n",
       "1                                          0  ...   \n",
       "2                                          0  ...   \n",
       "3                                          0  ...   \n",
       "4                                          0  ...   \n",
       "...                                      ...  ...   \n",
       "2611                                       0  ...   \n",
       "2612                                       0  ...   \n",
       "2613                                       0  ...   \n",
       "2614                                       0  ...   \n",
       "2615                                       0  ...   \n",
       "\n",
       "      past_3_years_bike_related_purchases:82-85  \\\n",
       "0                                             0   \n",
       "1                                             0   \n",
       "2                                             0   \n",
       "3                                             0   \n",
       "4                                             0   \n",
       "...                                         ...   \n",
       "2611                                          0   \n",
       "2612                                          0   \n",
       "2613                                          0   \n",
       "2614                                          0   \n",
       "2615                                          0   \n",
       "\n",
       "      past_3_years_bike_related_purchases:86-87  \\\n",
       "0                                             0   \n",
       "1                                             0   \n",
       "2                                             1   \n",
       "3                                             0   \n",
       "4                                             0   \n",
       "...                                         ...   \n",
       "2611                                          0   \n",
       "2612                                          0   \n",
       "2613                                          0   \n",
       "2614                                          0   \n",
       "2615                                          0   \n",
       "\n",
       "      past_3_years_bike_related_purchases:88  \\\n",
       "0                                          0   \n",
       "1                                          0   \n",
       "2                                          0   \n",
       "3                                          0   \n",
       "4                                          0   \n",
       "...                                      ...   \n",
       "2611                                       1   \n",
       "2612                                       0   \n",
       "2613                                       0   \n",
       "2614                                       0   \n",
       "2615                                       0   \n",
       "\n",
       "      past_3_years_bike_related_purchases:89  \\\n",
       "0                                          0   \n",
       "1                                          0   \n",
       "2                                          0   \n",
       "3                                          0   \n",
       "4                                          0   \n",
       "...                                      ...   \n",
       "2611                                       0   \n",
       "2612                                       0   \n",
       "2613                                       0   \n",
       "2614                                       0   \n",
       "2615                                       0   \n",
       "\n",
       "      past_3_years_bike_related_purchases:90  \\\n",
       "0                                          0   \n",
       "1                                          0   \n",
       "2                                          0   \n",
       "3                                          0   \n",
       "4                                          0   \n",
       "...                                      ...   \n",
       "2611                                       0   \n",
       "2612                                       0   \n",
       "2613                                       0   \n",
       "2614                                       0   \n",
       "2615                                       0   \n",
       "\n",
       "      past_3_years_bike_related_purchases:91  \\\n",
       "0                                          0   \n",
       "1                                          0   \n",
       "2                                          0   \n",
       "3                                          0   \n",
       "4                                          0   \n",
       "...                                      ...   \n",
       "2611                                       0   \n",
       "2612                                       0   \n",
       "2613                                       0   \n",
       "2614                                       0   \n",
       "2615                                       0   \n",
       "\n",
       "      past_3_years_bike_related_purchases:92-95  \\\n",
       "0                                             0   \n",
       "1                                             0   \n",
       "2                                             0   \n",
       "3                                             0   \n",
       "4                                             0   \n",
       "...                                         ...   \n",
       "2611                                          0   \n",
       "2612                                          1   \n",
       "2613                                          0   \n",
       "2614                                          0   \n",
       "2615                                          0   \n",
       "\n",
       "      past_3_years_bike_related_purchases:96  \\\n",
       "0                                          0   \n",
       "1                                          0   \n",
       "2                                          0   \n",
       "3                                          0   \n",
       "4                                          0   \n",
       "...                                      ...   \n",
       "2611                                       0   \n",
       "2612                                       0   \n",
       "2613                                       0   \n",
       "2614                                       0   \n",
       "2615                                       0   \n",
       "\n",
       "      past_3_years_bike_related_purchases:97-98  \\\n",
       "0                                             0   \n",
       "1                                             0   \n",
       "2                                             0   \n",
       "3                                             0   \n",
       "4                                             0   \n",
       "...                                         ...   \n",
       "2611                                          0   \n",
       "2612                                          0   \n",
       "2613                                          0   \n",
       "2614                                          0   \n",
       "2615                                          0   \n",
       "\n",
       "      past_3_years_bike_related_purchases:99  \n",
       "0                                          0  \n",
       "1                                          0  \n",
       "2                                          0  \n",
       "3                                          0  \n",
       "4                                          0  \n",
       "...                                      ...  \n",
       "2611                                       0  \n",
       "2612                                       0  \n",
       "2613                                       0  \n",
       "2614                                       0  \n",
       "2615                                       0  \n",
       "\n",
       "[2616 rows x 82 columns]"
      ]
     },
     "execution_count": 94,
     "metadata": {},
     "output_type": "execute_result"
    }
   ],
   "source": [
    "input_train"
   ]
  },
  {
   "cell_type": "code",
   "execution_count": 95,
   "metadata": {},
   "outputs": [],
   "source": [
    "# The above procedurer is done for target/ test dataset"
   ]
  },
  {
   "cell_type": "code",
   "execution_count": 96,
   "metadata": {},
   "outputs": [],
   "source": [
    "target_with_ref_Categories = customer_target_train.reindex(columns = ['gender:F', 'gender:M', 'wealth_segment:Affluent Customer',\n",
    "       'wealth_segment:High Net Worth', 'wealth_segment:Mass Customer',\n",
    "       'owns_car:No', 'owns_car:Yes', 'state:NSW', 'state:QLD',\n",
    "       'state:VIC', 'job_industry_category:Financial Services',\n",
    "       'job_industry_category:Manufacturing',\n",
    "       'job_industry_category:Retail',\n",
    "       'job_industry_category:Telecommunications',\n",
    "       'job_industry_category:unknown_category',\n",
    "       'job_industry_category : IT_Retail',\n",
    "       'job_industry_category : Health_Entertainment',\n",
    "       'job_industry_category:Agri_property', 'Age:15-16', 'Age:17',\n",
    "       'Age:18-20', 'Age:21-24', 'Age:25-26', 'Age:27-28', 'Age:29-32',\n",
    "       'Age:33-35', 'Age:36', 'Age:37-41', 'Age:42', 'Age:43-45',\n",
    "       'Age:46-48', 'Age:49-51', 'Age:52', 'Age:53-55', 'Age:56-59',\n",
    "       'Age:60', 'Age:61-64', 'Age:>=65', 'property_valuation : 1',\n",
    "       'property_valuation : 2-3', 'property_valuation : 4',\n",
    "       'property_valuation : 5-6', 'property_valuation : 7-9',\n",
    "       'property_valuation : 10-12', 'property_valuation : 12',\n",
    "       'tenure:1-3', 'tenure:4-6', 'tenure:7-11', 'tenure:12-13',\n",
    "       'tenure:14', 'tenure:15', 'tenure:16-18', 'tenure:19',\n",
    "       'tenure:>=20', 'past_3_years_bike_related_purchases:0-2',\n",
    "       'past_3_years_bike_related_purchases:3-9',\n",
    "       'past_3_years_bike_related_purchases:10',\n",
    "       'past_3_years_bike_related_purchases:11-13',\n",
    "       'past_3_years_bike_related_purchases:14-15',\n",
    "       'past_3_years_bike_related_purchases:16',\n",
    "       'past_3_years_bike_related_purchases:17-18',\n",
    "       'past_3_years_bike_related_purchases:19',\n",
    "       'past_3_years_bike_related_purchases:20',\n",
    "       'past_3_years_bike_related_purchases:21',\n",
    "       'past_3_years_bike_related_purchases:22-26',\n",
    "       'past_3_years_bike_related_purchases:27-28',\n",
    "       'past_3_years_bike_related_purchases:29-33',\n",
    "       'past_3_years_bike_related_purchases:34-38',\n",
    "       'past_3_years_bike_related_purchases:39',\n",
    "       'past_3_years_bike_related_purchases:40-47',\n",
    "       'past_3_years_bike_related_purchases:48-50',\n",
    "       'past_3_years_bike_related_purchases:51',\n",
    "       'past_3_years_bike_related_purchases:52-55',\n",
    "       'past_3_years_bike_related_purchases:56',\n",
    "       'past_3_years_bike_related_purchases:57-61',\n",
    "       'past_3_years_bike_related_purchases:62-66',\n",
    "       'past_3_years_bike_related_purchases:67-68',\n",
    "       'past_3_years_bike_related_purchases:69-77',\n",
    "       'past_3_years_bike_related_purchases:78',\n",
    "       'past_3_years_bike_related_purchases:79-80',\n",
    "       'past_3_years_bike_related_purchases:81',\n",
    "       'past_3_years_bike_related_purchases:82-85',\n",
    "       'past_3_years_bike_related_purchases:86-87',\n",
    "       'past_3_years_bike_related_purchases:88',\n",
    "       'past_3_years_bike_related_purchases:89',\n",
    "       'past_3_years_bike_related_purchases:90',\n",
    "       'past_3_years_bike_related_purchases:91',\n",
    "       'past_3_years_bike_related_purchases:92-95',\n",
    "       'past_3_years_bike_related_purchases:96',\n",
    "       'past_3_years_bike_related_purchases:97-98',\n",
    "       'past_3_years_bike_related_purchases:99'])"
   ]
  },
  {
   "cell_type": "code",
   "execution_count": 97,
   "metadata": {},
   "outputs": [],
   "source": [
    "input_test = target_with_ref_Categories.drop(ref_categories, axis = 1)"
   ]
  },
  {
   "cell_type": "code",
   "execution_count": 98,
   "metadata": {},
   "outputs": [],
   "source": [
    "# Building logistic regression model"
   ]
  },
  {
   "cell_type": "code",
   "execution_count": 99,
   "metadata": {},
   "outputs": [],
   "source": [
    "from sklearn.linear_model import LogisticRegression\n"
   ]
  },
  {
   "cell_type": "code",
   "execution_count": 100,
   "metadata": {},
   "outputs": [],
   "source": [
    "reg = LogisticRegression()"
   ]
  },
  {
   "cell_type": "code",
   "execution_count": 101,
   "metadata": {},
   "outputs": [],
   "source": [
    "customer_input_test = customer_input_test.drop(['Unnamed: 0'], axis = 1)"
   ]
  },
  {
   "cell_type": "code",
   "execution_count": 102,
   "metadata": {},
   "outputs": [
    {
     "data": {
      "text/html": [
       "<div>\n",
       "<style scoped>\n",
       "    .dataframe tbody tr th:only-of-type {\n",
       "        vertical-align: middle;\n",
       "    }\n",
       "\n",
       "    .dataframe tbody tr th {\n",
       "        vertical-align: top;\n",
       "    }\n",
       "\n",
       "    .dataframe thead th {\n",
       "        text-align: right;\n",
       "    }\n",
       "</style>\n",
       "<table border=\"1\" class=\"dataframe\">\n",
       "  <thead>\n",
       "    <tr style=\"text-align: right;\">\n",
       "      <th></th>\n",
       "      <th>profit_binary</th>\n",
       "    </tr>\n",
       "  </thead>\n",
       "  <tbody>\n",
       "    <tr>\n",
       "      <th>0</th>\n",
       "      <td>1</td>\n",
       "    </tr>\n",
       "    <tr>\n",
       "      <th>1</th>\n",
       "      <td>0</td>\n",
       "    </tr>\n",
       "    <tr>\n",
       "      <th>2</th>\n",
       "      <td>1</td>\n",
       "    </tr>\n",
       "    <tr>\n",
       "      <th>3</th>\n",
       "      <td>1</td>\n",
       "    </tr>\n",
       "    <tr>\n",
       "      <th>4</th>\n",
       "      <td>0</td>\n",
       "    </tr>\n",
       "    <tr>\n",
       "      <th>...</th>\n",
       "      <td>...</td>\n",
       "    </tr>\n",
       "    <tr>\n",
       "      <th>2611</th>\n",
       "      <td>0</td>\n",
       "    </tr>\n",
       "    <tr>\n",
       "      <th>2612</th>\n",
       "      <td>1</td>\n",
       "    </tr>\n",
       "    <tr>\n",
       "      <th>2613</th>\n",
       "      <td>1</td>\n",
       "    </tr>\n",
       "    <tr>\n",
       "      <th>2614</th>\n",
       "      <td>1</td>\n",
       "    </tr>\n",
       "    <tr>\n",
       "      <th>2615</th>\n",
       "      <td>0</td>\n",
       "    </tr>\n",
       "  </tbody>\n",
       "</table>\n",
       "<p>2616 rows × 1 columns</p>\n",
       "</div>"
      ],
      "text/plain": [
       "      profit_binary\n",
       "0                 1\n",
       "1                 0\n",
       "2                 1\n",
       "3                 1\n",
       "4                 0\n",
       "...             ...\n",
       "2611              0\n",
       "2612              1\n",
       "2613              1\n",
       "2614              1\n",
       "2615              0\n",
       "\n",
       "[2616 rows x 1 columns]"
      ]
     },
     "execution_count": 102,
     "metadata": {},
     "output_type": "execute_result"
    }
   ],
   "source": [
    "customer_input_test"
   ]
  },
  {
   "cell_type": "code",
   "execution_count": 103,
   "metadata": {},
   "outputs": [
    {
     "name": "stderr",
     "output_type": "stream",
     "text": [
      "C:\\Users\\Balamre\\anaconda3\\lib\\site-packages\\sklearn\\utils\\validation.py:73: DataConversionWarning: A column-vector y was passed when a 1d array was expected. Please change the shape of y to (n_samples, ), for example using ravel().\n",
      "  return f(**kwargs)\n"
     ]
    },
    {
     "data": {
      "text/plain": [
       "LogisticRegression()"
      ]
     },
     "execution_count": 103,
     "metadata": {},
     "output_type": "execute_result"
    }
   ],
   "source": [
    "reg.fit(input_train,customer_input_test)"
   ]
  },
  {
   "cell_type": "code",
   "execution_count": 104,
   "metadata": {},
   "outputs": [
    {
     "data": {
      "text/plain": [
       "array([[-1.27081580e-01,  8.65513300e-02,  9.71048346e-02,\n",
       "         1.13016762e-02,  3.28501141e-02,  9.13444628e-02,\n",
       "         1.54345568e-01,  7.64468772e-03, -7.38343200e-02,\n",
       "         1.01504107e-01,  1.62525127e-01,  1.29484683e-01,\n",
       "        -1.82925976e-02,  3.69701242e-01, -4.42903900e-01,\n",
       "         1.30035832e-02,  1.02146102e-01, -2.54064259e-01,\n",
       "        -2.20996071e-01,  9.06117219e-02,  2.49628709e-01,\n",
       "         5.33138962e-01,  2.33566059e-01,  2.77063038e-04,\n",
       "        -1.51266722e-01, -2.76261062e-03,  2.87464502e-01,\n",
       "        -2.52900819e-01,  1.58565299e-01,  2.30843637e-01,\n",
       "        -3.63726336e-01,  1.91478919e-01, -3.15612943e-01,\n",
       "        -9.76069532e-02, -3.84716044e-01, -3.04416990e-01,\n",
       "        -5.47796337e-01,  1.70706511e-01, -3.63557989e-02,\n",
       "        -8.51684833e-02, -8.18764090e-02,  2.43753368e-01,\n",
       "        -4.09907094e-01,  5.48427064e-02, -1.51982748e-01,\n",
       "         2.73726275e-01,  1.78891713e-01, -1.25810984e-01,\n",
       "         3.00066307e-01,  4.91692997e-01, -8.34417254e-02,\n",
       "         2.38586848e-01, -4.68157674e-01,  5.40128401e-01,\n",
       "        -3.49156163e-01,  4.16994390e-01,  3.24988458e-01,\n",
       "        -9.37513008e-02, -1.00578461e-01, -6.13134596e-01,\n",
       "         4.37313427e-01, -2.08937655e-02,  2.69735912e-02,\n",
       "        -1.75989902e-01,  4.47275617e-01,  6.12014970e-02,\n",
       "        -7.53070524e-02, -2.12390085e-01,  1.16116697e-01,\n",
       "         8.99594666e-02, -3.33754989e-02,  7.52321854e-02,\n",
       "         2.31907837e-01,  3.80175723e-02, -6.99429060e-01,\n",
       "         5.32430144e-01, -7.04770508e-03, -6.66403227e-02,\n",
       "        -1.87137477e-01, -2.43983425e-03,  2.56861957e-01,\n",
       "         4.72403823e-01]])"
      ]
     },
     "execution_count": 104,
     "metadata": {},
     "output_type": "execute_result"
    }
   ],
   "source": [
    "reg.coef_"
   ]
  },
  {
   "cell_type": "code",
   "execution_count": 105,
   "metadata": {},
   "outputs": [
    {
     "data": {
      "text/plain": [
       "array([0.05816139])"
      ]
     },
     "execution_count": 105,
     "metadata": {},
     "output_type": "execute_result"
    }
   ],
   "source": [
    "reg.intercept_"
   ]
  },
  {
   "cell_type": "code",
   "execution_count": 106,
   "metadata": {},
   "outputs": [],
   "source": [
    "# To obtain co-efficient and p values of each predictor we use the below built in functionalities"
   ]
  },
  {
   "cell_type": "code",
   "execution_count": 107,
   "metadata": {},
   "outputs": [],
   "source": [
    "# If p-values are significantly less i.e <0.005 then that predictor is of high importance for predicting the target variable"
   ]
  },
  {
   "cell_type": "code",
   "execution_count": 108,
   "metadata": {},
   "outputs": [],
   "source": [
    "import statsmodels.api as sm\n",
    "from scipy import stats"
   ]
  },
  {
   "cell_type": "code",
   "execution_count": 109,
   "metadata": {},
   "outputs": [
    {
     "name": "stdout",
     "output_type": "stream",
     "text": [
      "Optimization terminated successfully.\n",
      "         Current function value: 0.672319\n",
      "         Iterations 5\n",
      "                           Logit Regression Results                           \n",
      "==============================================================================\n",
      "Dep. Variable:          profit_binary   No. Observations:                 2616\n",
      "Model:                          Logit   Df Residuals:                     2534\n",
      "Method:                           MLE   Df Model:                           81\n",
      "Date:                Wed, 03 Mar 2021   Pseudo R-squ.:                 0.02992\n",
      "Time:                        16:48:02   Log-Likelihood:                -1758.8\n",
      "converged:                       True   LL-Null:                       -1813.0\n",
      "Covariance Type:            nonrobust   LLR p-value:                   0.02249\n",
      "================================================================================================================\n",
      "                                                   coef    std err          z      P>|z|      [0.025      0.975]\n",
      "----------------------------------------------------------------------------------------------------------------\n",
      "gender:F                                        -0.1298      0.082     -1.593      0.111      -0.290       0.030\n",
      "wealth_segment:High Net Worth                    0.0850      0.115      0.741      0.459      -0.140       0.310\n",
      "wealth_segment:Mass Customer                     0.0963      0.099      0.969      0.332      -0.098       0.291\n",
      "owns_car:Yes                                     0.0087      0.081      0.107      0.914      -0.150       0.168\n",
      "state:NSW                                        0.0386      0.113      0.343      0.732      -0.182       0.259\n",
      "state:VIC                                        0.0982      0.122      0.805      0.421      -0.141       0.337\n",
      "job_industry_category:Financial Services         0.1433      0.308      0.466      0.641      -0.460       0.746\n",
      "job_industry_category:Manufacturing             -0.0068      0.308     -0.022      0.982      -0.610       0.596\n",
      "job_industry_category:Retail                    -0.0793      0.229     -0.346      0.730      -0.529       0.370\n",
      "job_industry_category:unknown_category           0.0878      0.310      0.283      0.777      -0.520       0.696\n",
      "job_industry_category : IT_Retail                0.1545      0.343      0.451      0.652      -0.517       0.826\n",
      "job_industry_category : Health_Entertainment     0.1154      0.308      0.374      0.708      -0.489       0.720\n",
      "job_industry_category:Agri_property             -0.0316      0.322     -0.098      0.922      -0.663       0.600\n",
      "Age:15-16                                        0.5968      0.721      0.828      0.408      -0.815       2.009\n",
      "Age:17                                          -0.4062      0.592     -0.686      0.493      -1.567       0.755\n",
      "Age:18-20                                        0.1189      0.460      0.259      0.796      -0.783       1.020\n",
      "Age:21-24                                        0.2116      0.430      0.492      0.623      -0.631       1.055\n",
      "Age:25-26                                       -0.1576      0.465     -0.339      0.735      -1.070       0.755\n",
      "Age:27-28                                       -0.1258      0.465     -0.270      0.787      -1.038       0.786\n",
      "Age:29-32                                        0.1946      0.414      0.470      0.639      -0.617       1.007\n",
      "Age:33-35                                        0.3715      0.460      0.807      0.420      -0.531       1.274\n",
      "Age:36                                           0.6947      0.513      1.354      0.176      -0.311       1.700\n",
      "Age:37-41                                        0.3378      0.403      0.838      0.402      -0.453       1.128\n",
      "Age:42                                           0.0999      0.458      0.218      0.827      -0.798       0.998\n",
      "Age:43-45                                       -0.0496      0.417     -0.119      0.905      -0.868       0.768\n",
      "Age:46-48                                        0.0989      0.437      0.226      0.821      -0.758       0.955\n",
      "Age:49-51                                        0.3993      0.430      0.928      0.353      -0.444       1.242\n",
      "Age:52                                          -0.1714      0.526     -0.326      0.745      -1.203       0.860\n",
      "Age:53-55                                        0.2678      0.436      0.614      0.539      -0.588       1.123\n",
      "Age:56-59                                        0.3425      0.427      0.801      0.423      -0.495       1.180\n",
      "Age:60                                          -0.2904      0.500     -0.581      0.561      -1.270       0.689\n",
      "Age:61-64                                        0.2983      0.433      0.689      0.491      -0.550       1.146\n",
      "property_valuation : 1                          -0.3773      0.241     -1.563      0.118      -0.851       0.096\n",
      "property_valuation : 4                          -0.1487      0.224     -0.664      0.507      -0.588       0.290\n",
      "property_valuation : 5-6                        -0.4393      0.184     -2.394      0.017      -0.799      -0.080\n",
      "property_valuation : 7-9                        -0.3538      0.157     -2.259      0.024      -0.661      -0.047\n",
      "property_valuation : 10-12                      -0.6051      0.176     -3.438      0.001      -0.950      -0.260\n",
      "property_valuation : 12                          0.1853      0.206      0.899      0.369      -0.219       0.589\n",
      "tenure:1-3                                      -0.0653      0.252     -0.260      0.795      -0.558       0.428\n",
      "tenure:4-6                                      -0.1185      0.209     -0.567      0.571      -0.528       0.291\n",
      "tenure:7-11                                     -0.1118      0.191     -0.586      0.558      -0.486       0.262\n",
      "tenure:12-13                                     0.2218      0.217      1.020      0.308      -0.204       0.648\n",
      "tenure:14                                       -0.4536      0.251     -1.808      0.071      -0.945       0.038\n",
      "tenure:15                                        0.0243      0.265      0.092      0.927      -0.494       0.543\n",
      "tenure:16-18                                    -0.1871      0.203     -0.920      0.358      -0.586       0.212\n",
      "tenure:19                                        0.2615      0.273      0.958      0.338      -0.273       0.796\n",
      "past_3_years_bike_related_purchases:0-2          0.2328      0.291      0.801      0.423      -0.337       0.802\n",
      "past_3_years_bike_related_purchases:3-9         -0.0906      0.239     -0.379      0.705      -0.560       0.378\n",
      "past_3_years_bike_related_purchases:10           0.3765      0.401      0.938      0.348      -0.410       1.163\n",
      "past_3_years_bike_related_purchases:11-13        0.5537      0.278      1.989      0.047       0.008       1.099\n",
      "past_3_years_bike_related_purchases:14-15       -0.0453      0.328     -0.138      0.890      -0.687       0.597\n",
      "past_3_years_bike_related_purchases:16           0.3028      0.366      0.828      0.408      -0.414       1.019\n",
      "past_3_years_bike_related_purchases:17-18       -0.4683      0.342     -1.368      0.171      -1.140       0.203\n",
      "past_3_years_bike_related_purchases:19           0.6683      0.429      1.559      0.119      -0.172       1.509\n",
      "past_3_years_bike_related_purchases:20          -0.3498      0.389     -0.899      0.368      -1.112       0.412\n",
      "past_3_years_bike_related_purchases:21           0.5339      0.458      1.165      0.244      -0.364       1.432\n",
      "past_3_years_bike_related_purchases:27-28        0.3926      0.345      1.139      0.255      -0.283       1.068\n",
      "past_3_years_bike_related_purchases:29-33       -0.0542      0.247     -0.219      0.827      -0.539       0.431\n",
      "past_3_years_bike_related_purchases:34-38       -0.0617      0.240     -0.257      0.797      -0.532       0.409\n",
      "past_3_years_bike_related_purchases:39          -0.6940      0.474     -1.464      0.143      -1.623       0.235\n",
      "past_3_years_bike_related_purchases:40-47        0.4871      0.226      2.153      0.031       0.044       0.931\n",
      "past_3_years_bike_related_purchases:48-50        0.0175      0.282      0.062      0.950      -0.536       0.571\n",
      "past_3_years_bike_related_purchases:51           0.0683      0.405      0.169      0.866      -0.725       0.862\n",
      "past_3_years_bike_related_purchases:52-55       -0.1470      0.266     -0.553      0.581      -0.668       0.374\n",
      "past_3_years_bike_related_purchases:56           0.5753      0.462      1.246      0.213      -0.329       1.480\n",
      "past_3_years_bike_related_purchases:57-61        0.1036      0.257      0.402      0.687      -0.401       0.608\n",
      "past_3_years_bike_related_purchases:62-66       -0.0380      0.255     -0.149      0.881      -0.537       0.461\n",
      "past_3_years_bike_related_purchases:67-68       -0.1895      0.313     -0.605      0.545      -0.804       0.425\n",
      "past_3_years_bike_related_purchases:69-77        0.1562      0.219      0.714      0.475      -0.273       0.585\n",
      "past_3_years_bike_related_purchases:78           0.1581      0.533      0.297      0.767      -0.886       1.203\n",
      "past_3_years_bike_related_purchases:79-80        0.0052      0.316      0.017      0.987      -0.615       0.625\n",
      "past_3_years_bike_related_purchases:81           0.1274      0.424      0.301      0.764      -0.703       0.958\n",
      "past_3_years_bike_related_purchases:82-85        0.2872      0.279      1.031      0.303      -0.259       0.833\n",
      "past_3_years_bike_related_purchases:86-87        0.0905      0.374      0.242      0.809      -0.642       0.823\n",
      "past_3_years_bike_related_purchases:88          -0.8151      0.518     -1.573      0.116      -1.831       0.201\n",
      "past_3_years_bike_related_purchases:89           0.6570      0.435      1.510      0.131      -0.196       1.510\n",
      "past_3_years_bike_related_purchases:90           0.0331      0.445      0.074      0.941      -0.838       0.905\n",
      "past_3_years_bike_related_purchases:91          -0.0341      0.494     -0.069      0.945      -1.002       0.934\n",
      "past_3_years_bike_related_purchases:92-95       -0.1495      0.276     -0.541      0.588      -0.691       0.392\n",
      "past_3_years_bike_related_purchases:96           0.0392      0.418      0.094      0.925      -0.779       0.858\n",
      "past_3_years_bike_related_purchases:97-98        0.3163      0.312      1.015      0.310      -0.295       0.927\n",
      "past_3_years_bike_related_purchases:99           0.5822      0.426      1.366      0.172      -0.253       1.417\n",
      "================================================================================================================\n"
     ]
    }
   ],
   "source": [
    "X = input_train\n",
    "y = customer_input_test\n",
    "logit_model=sm.Logit(y,X)\n",
    "result=logit_model.fit()\n",
    "print(result.summary())"
   ]
  },
  {
   "cell_type": "code",
   "execution_count": 110,
   "metadata": {},
   "outputs": [],
   "source": [
    "# Below is a function used to calculate p values and co-efficient "
   ]
  },
  {
   "cell_type": "code",
   "execution_count": 111,
   "metadata": {},
   "outputs": [],
   "source": [
    "# P values for sklearn logistic regression.\n",
    "\n",
    "# Class to display p-values for logistic regression in sklearn.\n",
    "\n",
    "from sklearn import linear_model\n",
    "import scipy.stats as stat\n",
    "\n",
    "class LogisticRegression_with_p_values:\n",
    "    \n",
    "    def __init__(self,*args,**kwargs):#,**kwargs):\n",
    "        self.model = linear_model.LogisticRegression(*args,**kwargs)#,**args)\n",
    "\n",
    "    def fit(self,X,y):\n",
    "        self.model.fit(X,y)\n",
    "        \n",
    "        #### Get p-values for the fitted model ####\n",
    "        denom = (2.0 * (1.0 + np.cosh(self.model.decision_function(X))))\n",
    "        denom = np.tile(denom,(X.shape[1],1)).T\n",
    "        F_ij = np.dot((X / denom).T,X) ## Fisher Information Matrix\n",
    "        Cramer_Rao = np.linalg.inv(F_ij) ## Inverse Information Matrix\n",
    "        sigma_estimates = np.sqrt(np.diagonal(Cramer_Rao))\n",
    "        z_scores = self.model.coef_[0] / sigma_estimates # z-score for eaach model coefficient\n",
    "        p_values = [stat.norm.sf(abs(x)) * 2 for x in z_scores] ### two tailed test for p-values\n",
    "        \n",
    "        self.coef_ = self.model.coef_\n",
    "        self.intercept_ = self.model.intercept_\n",
    "        self.p_values = p_values"
   ]
  },
  {
   "cell_type": "code",
   "execution_count": 112,
   "metadata": {},
   "outputs": [],
   "source": [
    "reg_p = LogisticRegression_with_p_values()"
   ]
  },
  {
   "cell_type": "code",
   "execution_count": 113,
   "metadata": {},
   "outputs": [
    {
     "name": "stderr",
     "output_type": "stream",
     "text": [
      "C:\\Users\\Balamre\\anaconda3\\lib\\site-packages\\sklearn\\utils\\validation.py:73: DataConversionWarning: A column-vector y was passed when a 1d array was expected. Please change the shape of y to (n_samples, ), for example using ravel().\n",
      "  return f(**kwargs)\n"
     ]
    }
   ],
   "source": [
    "reg_p.fit(input_train,customer_input_test)"
   ]
  },
  {
   "cell_type": "code",
   "execution_count": 114,
   "metadata": {},
   "outputs": [],
   "source": [
    "feature_names = input_train.columns.values"
   ]
  },
  {
   "cell_type": "code",
   "execution_count": 115,
   "metadata": {},
   "outputs": [],
   "source": [
    "# Function for displaying a summary table"
   ]
  },
  {
   "cell_type": "code",
   "execution_count": 116,
   "metadata": {},
   "outputs": [
    {
     "data": {
      "text/html": [
       "<div>\n",
       "<style scoped>\n",
       "    .dataframe tbody tr th:only-of-type {\n",
       "        vertical-align: middle;\n",
       "    }\n",
       "\n",
       "    .dataframe tbody tr th {\n",
       "        vertical-align: top;\n",
       "    }\n",
       "\n",
       "    .dataframe thead th {\n",
       "        text-align: right;\n",
       "    }\n",
       "</style>\n",
       "<table border=\"1\" class=\"dataframe\">\n",
       "  <thead>\n",
       "    <tr style=\"text-align: right;\">\n",
       "      <th></th>\n",
       "      <th>Feature name</th>\n",
       "      <th>Coefficients</th>\n",
       "    </tr>\n",
       "  </thead>\n",
       "  <tbody>\n",
       "    <tr>\n",
       "      <th>0</th>\n",
       "      <td>Intercept</td>\n",
       "      <td>0.058161</td>\n",
       "    </tr>\n",
       "    <tr>\n",
       "      <th>1</th>\n",
       "      <td>gender:F</td>\n",
       "      <td>-0.127082</td>\n",
       "    </tr>\n",
       "    <tr>\n",
       "      <th>2</th>\n",
       "      <td>wealth_segment:High Net Worth</td>\n",
       "      <td>0.086551</td>\n",
       "    </tr>\n",
       "    <tr>\n",
       "      <th>3</th>\n",
       "      <td>wealth_segment:Mass Customer</td>\n",
       "      <td>0.097105</td>\n",
       "    </tr>\n",
       "    <tr>\n",
       "      <th>4</th>\n",
       "      <td>owns_car:Yes</td>\n",
       "      <td>0.011302</td>\n",
       "    </tr>\n",
       "    <tr>\n",
       "      <th>...</th>\n",
       "      <td>...</td>\n",
       "      <td>...</td>\n",
       "    </tr>\n",
       "    <tr>\n",
       "      <th>78</th>\n",
       "      <td>past_3_years_bike_related_purchases:91</td>\n",
       "      <td>-0.066640</td>\n",
       "    </tr>\n",
       "    <tr>\n",
       "      <th>79</th>\n",
       "      <td>past_3_years_bike_related_purchases:92-95</td>\n",
       "      <td>-0.187137</td>\n",
       "    </tr>\n",
       "    <tr>\n",
       "      <th>80</th>\n",
       "      <td>past_3_years_bike_related_purchases:96</td>\n",
       "      <td>-0.002440</td>\n",
       "    </tr>\n",
       "    <tr>\n",
       "      <th>81</th>\n",
       "      <td>past_3_years_bike_related_purchases:97-98</td>\n",
       "      <td>0.256862</td>\n",
       "    </tr>\n",
       "    <tr>\n",
       "      <th>82</th>\n",
       "      <td>past_3_years_bike_related_purchases:99</td>\n",
       "      <td>0.472404</td>\n",
       "    </tr>\n",
       "  </tbody>\n",
       "</table>\n",
       "<p>83 rows × 2 columns</p>\n",
       "</div>"
      ],
      "text/plain": [
       "                                 Feature name  Coefficients\n",
       "0                                   Intercept      0.058161\n",
       "1                                    gender:F     -0.127082\n",
       "2               wealth_segment:High Net Worth      0.086551\n",
       "3                wealth_segment:Mass Customer      0.097105\n",
       "4                                owns_car:Yes      0.011302\n",
       "..                                        ...           ...\n",
       "78     past_3_years_bike_related_purchases:91     -0.066640\n",
       "79  past_3_years_bike_related_purchases:92-95     -0.187137\n",
       "80     past_3_years_bike_related_purchases:96     -0.002440\n",
       "81  past_3_years_bike_related_purchases:97-98      0.256862\n",
       "82     past_3_years_bike_related_purchases:99      0.472404\n",
       "\n",
       "[83 rows x 2 columns]"
      ]
     },
     "execution_count": 116,
     "metadata": {},
     "output_type": "execute_result"
    }
   ],
   "source": [
    "summary_table = pd.DataFrame(columns = ['Feature name'], data = feature_names)\n",
    "summary_table['Coefficients'] = np.transpose(reg.coef_)\n",
    "summary_table.index = summary_table.index + 1\n",
    "summary_table.loc[0] = ['Intercept', reg.intercept_[0]]\n",
    "summary_table = summary_table.sort_index()\n",
    "summary_table"
   ]
  },
  {
   "cell_type": "code",
   "execution_count": 117,
   "metadata": {},
   "outputs": [],
   "source": [
    "p_values = reg_p.p_values"
   ]
  },
  {
   "cell_type": "code",
   "execution_count": 118,
   "metadata": {},
   "outputs": [],
   "source": [
    "p_values = np.append(np.nan, np.array(p_values))\n",
    "summary_table['p_values'] = p_values"
   ]
  },
  {
   "cell_type": "code",
   "execution_count": 119,
   "metadata": {},
   "outputs": [
    {
     "data": {
      "text/html": [
       "<div>\n",
       "<style scoped>\n",
       "    .dataframe tbody tr th:only-of-type {\n",
       "        vertical-align: middle;\n",
       "    }\n",
       "\n",
       "    .dataframe tbody tr th {\n",
       "        vertical-align: top;\n",
       "    }\n",
       "\n",
       "    .dataframe thead th {\n",
       "        text-align: right;\n",
       "    }\n",
       "</style>\n",
       "<table border=\"1\" class=\"dataframe\">\n",
       "  <thead>\n",
       "    <tr style=\"text-align: right;\">\n",
       "      <th></th>\n",
       "      <th>Feature name</th>\n",
       "      <th>Coefficients</th>\n",
       "      <th>p_values</th>\n",
       "    </tr>\n",
       "  </thead>\n",
       "  <tbody>\n",
       "    <tr>\n",
       "      <th>0</th>\n",
       "      <td>Intercept</td>\n",
       "      <td>0.058161</td>\n",
       "      <td>NaN</td>\n",
       "    </tr>\n",
       "    <tr>\n",
       "      <th>1</th>\n",
       "      <td>gender:F</td>\n",
       "      <td>-0.127082</td>\n",
       "      <td>0.118034</td>\n",
       "    </tr>\n",
       "    <tr>\n",
       "      <th>2</th>\n",
       "      <td>wealth_segment:High Net Worth</td>\n",
       "      <td>0.086551</td>\n",
       "      <td>0.449748</td>\n",
       "    </tr>\n",
       "    <tr>\n",
       "      <th>3</th>\n",
       "      <td>wealth_segment:Mass Customer</td>\n",
       "      <td>0.097105</td>\n",
       "      <td>0.327392</td>\n",
       "    </tr>\n",
       "    <tr>\n",
       "      <th>4</th>\n",
       "      <td>owns_car:Yes</td>\n",
       "      <td>0.011302</td>\n",
       "      <td>0.888959</td>\n",
       "    </tr>\n",
       "    <tr>\n",
       "      <th>...</th>\n",
       "      <td>...</td>\n",
       "      <td>...</td>\n",
       "      <td>...</td>\n",
       "    </tr>\n",
       "    <tr>\n",
       "      <th>78</th>\n",
       "      <td>past_3_years_bike_related_purchases:91</td>\n",
       "      <td>-0.066640</td>\n",
       "      <td>0.892378</td>\n",
       "    </tr>\n",
       "    <tr>\n",
       "      <th>79</th>\n",
       "      <td>past_3_years_bike_related_purchases:92-95</td>\n",
       "      <td>-0.187137</td>\n",
       "      <td>0.497381</td>\n",
       "    </tr>\n",
       "    <tr>\n",
       "      <th>80</th>\n",
       "      <td>past_3_years_bike_related_purchases:96</td>\n",
       "      <td>-0.002440</td>\n",
       "      <td>0.995331</td>\n",
       "    </tr>\n",
       "    <tr>\n",
       "      <th>81</th>\n",
       "      <td>past_3_years_bike_related_purchases:97-98</td>\n",
       "      <td>0.256862</td>\n",
       "      <td>0.409027</td>\n",
       "    </tr>\n",
       "    <tr>\n",
       "      <th>82</th>\n",
       "      <td>past_3_years_bike_related_purchases:99</td>\n",
       "      <td>0.472404</td>\n",
       "      <td>0.264035</td>\n",
       "    </tr>\n",
       "  </tbody>\n",
       "</table>\n",
       "<p>83 rows × 3 columns</p>\n",
       "</div>"
      ],
      "text/plain": [
       "                                 Feature name  Coefficients  p_values\n",
       "0                                   Intercept      0.058161       NaN\n",
       "1                                    gender:F     -0.127082  0.118034\n",
       "2               wealth_segment:High Net Worth      0.086551  0.449748\n",
       "3                wealth_segment:Mass Customer      0.097105  0.327392\n",
       "4                                owns_car:Yes      0.011302  0.888959\n",
       "..                                        ...           ...       ...\n",
       "78     past_3_years_bike_related_purchases:91     -0.066640  0.892378\n",
       "79  past_3_years_bike_related_purchases:92-95     -0.187137  0.497381\n",
       "80     past_3_years_bike_related_purchases:96     -0.002440  0.995331\n",
       "81  past_3_years_bike_related_purchases:97-98      0.256862  0.409027\n",
       "82     past_3_years_bike_related_purchases:99      0.472404  0.264035\n",
       "\n",
       "[83 rows x 3 columns]"
      ]
     },
     "execution_count": 119,
     "metadata": {},
     "output_type": "execute_result"
    }
   ],
   "source": [
    "summary_table"
   ]
  },
  {
   "cell_type": "code",
   "execution_count": 120,
   "metadata": {},
   "outputs": [],
   "source": [
    "#tenure:19\t0.763337\t0.026686\n",
    "#47\tpast_3_years_bike_related_purchases:0-2\t0.618285\t0.095478"
   ]
  },
  {
   "cell_type": "code",
   "execution_count": 121,
   "metadata": {},
   "outputs": [],
   "source": [
    "# As p values of all features are high and none of them are significant contributors we include all the context based relevant predictors into the model\n"
   ]
  },
  {
   "cell_type": "code",
   "execution_count": 122,
   "metadata": {},
   "outputs": [],
   "source": [
    "y_hat_test = reg_p.model.predict(input_test)"
   ]
  },
  {
   "cell_type": "code",
   "execution_count": 123,
   "metadata": {},
   "outputs": [
    {
     "data": {
      "text/plain": [
       "array([0, 1, 0, 0, 1, 1, 1, 0, 0, 0, 0, 1, 0, 0, 0, 0, 0, 1, 1, 0, 1, 1,\n",
       "       0, 1, 1, 0, 0, 0, 0, 0, 0, 0, 1, 0, 1, 0, 0, 1, 0, 1, 1, 0, 0, 0,\n",
       "       0, 0, 0, 0, 0, 1, 0, 1, 0, 1, 1, 0, 0, 0, 1, 1, 0, 0, 1, 0, 0, 0,\n",
       "       0, 0, 0, 0, 1, 0, 0, 0, 0, 1, 1, 1, 1, 1, 1, 1, 0, 0, 0, 1, 0, 0,\n",
       "       1, 1, 0, 1, 1, 0, 0, 1, 0, 1, 1, 0, 0, 0, 1, 1, 1, 0, 0, 0, 0, 0,\n",
       "       0, 1, 0, 1, 1, 1, 0, 0, 1, 1, 0, 1, 0, 0, 1, 1, 0, 1, 1, 0, 1, 0,\n",
       "       0, 1, 0, 0, 1, 1, 0, 1, 0, 0, 0, 0, 1, 1, 0, 1, 0, 1, 1, 0, 1, 1,\n",
       "       0, 1, 0, 1, 1, 0, 0, 1, 1, 0, 0, 0, 1, 1, 0, 1, 0, 0, 0, 1, 1, 0,\n",
       "       1, 0, 1, 1, 0, 0, 0, 0, 0, 1, 0, 0, 1, 1, 0, 0, 1, 1, 0, 0, 1, 0,\n",
       "       1, 0, 0, 1, 0, 1, 1, 0, 0, 0, 1, 0, 0, 0, 0, 1, 1, 1, 0, 0, 0, 1,\n",
       "       1, 1, 0, 1, 1, 0, 0, 1, 1, 1, 1, 0, 0, 0, 0, 0, 1, 1, 1, 0, 1, 0,\n",
       "       0, 0, 0, 1, 1, 1, 1, 0, 1, 1, 0, 0, 0, 0, 1, 0, 1, 1, 1, 1, 0, 0,\n",
       "       0, 1, 0, 0, 1, 1, 0, 1, 0, 1, 1, 0, 0, 1, 0, 1, 1, 0, 1, 0, 1, 0,\n",
       "       1, 1, 0, 0, 1, 1, 1, 0, 1, 0, 1, 1, 1, 0, 1, 1, 1, 0, 0, 1, 1, 1,\n",
       "       0, 1, 0, 0, 0, 0, 1, 0, 1, 1, 1, 0, 1, 1, 1, 0, 1, 0, 1, 1, 0, 1,\n",
       "       0, 0, 0, 0, 1, 0, 0, 0, 1, 0, 0, 0, 1, 0, 0, 0, 0, 0, 1, 0, 1, 0,\n",
       "       0, 1, 1, 0, 0, 1, 1, 0, 0, 0, 0, 0, 0, 0, 0, 1, 0, 0, 0, 0, 1, 1,\n",
       "       0, 0, 0, 1, 0, 1, 1, 0, 0, 0, 1, 0, 0, 1, 0, 1, 0, 0, 0, 0, 0, 1,\n",
       "       0, 1, 0, 0, 0, 0, 0, 1, 0, 1, 0, 0, 1, 1, 1, 0, 1, 0, 1, 1, 0, 0,\n",
       "       0, 0, 1, 0, 0, 0, 1, 0, 1, 0, 1, 0, 1, 0, 0, 0, 0, 0, 1, 1, 1, 1,\n",
       "       1, 1, 0, 0, 0, 1, 0, 0, 0, 1, 0, 0, 1, 1, 1, 0, 1, 0, 0, 0, 1, 0,\n",
       "       1, 1, 1, 1, 0, 1, 1, 1, 1, 0, 0, 1, 0, 0, 0, 0, 0, 0, 0, 1, 0, 0,\n",
       "       0, 0, 1, 1, 0, 0, 0, 0, 1, 1, 0, 0, 1, 0, 0, 0, 1, 0, 1, 0, 1, 1,\n",
       "       0, 1, 1, 0, 0, 1, 0, 0, 0, 1, 0, 0, 1, 0, 0, 1, 1, 0, 1, 0, 0, 1,\n",
       "       0, 0, 1, 1, 0, 1, 1, 0, 0, 0, 1, 0, 1, 0, 0, 0, 1, 0, 0, 0, 1, 0,\n",
       "       0, 1, 0, 1, 0, 0, 0, 0, 0, 1, 1, 1, 1, 0, 1, 0, 0, 0, 0, 1, 0, 1,\n",
       "       0, 0, 1, 0, 1, 1, 0, 0, 0, 0, 1, 1, 1, 1, 1, 1, 0, 1, 0, 0, 0, 1,\n",
       "       1, 1, 1, 1, 0, 0, 0, 0, 0, 1, 1, 0, 0, 0, 1, 1, 1, 0, 1, 1, 0, 0,\n",
       "       1, 1, 0, 1, 1, 1, 1, 0, 1, 0, 1, 0, 0, 1, 0, 0, 1, 0, 1, 0, 0, 1,\n",
       "       1, 1, 0, 0, 1, 1, 1, 1, 0, 1, 1, 1, 1, 0, 1, 0, 0, 0, 0, 0, 1, 0,\n",
       "       1, 0, 0, 1, 0, 0, 0, 0, 0, 1, 0, 0, 1, 0, 1, 1, 0, 0, 0, 1, 0, 1,\n",
       "       0, 1, 0, 1, 0, 0, 1, 1, 1, 1, 0, 0, 1, 0, 0, 0, 0, 1, 1, 1, 0, 1,\n",
       "       1, 0, 1, 0, 0, 1, 0, 0, 1, 0, 1, 0, 1, 0, 1, 1, 1, 0, 1, 1, 1, 0,\n",
       "       0, 0, 0, 0, 1, 1, 0, 0, 0, 1, 0, 0, 1, 1, 0, 0, 1, 1, 1, 0, 0, 0,\n",
       "       1, 1, 0, 1, 1, 0, 0, 0, 1, 0, 0, 1, 0, 1, 0, 0, 1, 1, 0, 1, 0, 1,\n",
       "       0, 1, 0, 0, 0, 1, 0, 1, 0, 1, 0, 0, 1, 1, 0, 1, 0, 1, 1, 0, 0, 1,\n",
       "       0, 0, 0, 0, 0, 0, 1, 1, 0, 0, 0, 1, 1, 1, 1, 1, 1, 0, 0, 0, 0, 1,\n",
       "       0, 0, 1, 0, 1, 0, 0, 1, 0, 0, 0, 1, 0, 1, 0, 0, 1, 1, 0, 1, 1, 0,\n",
       "       1, 0, 1, 0, 1, 0, 1, 0, 1, 1, 0, 1, 0, 0, 1, 1, 0, 1, 0, 0, 1, 0,\n",
       "       1, 1, 1, 1, 1, 0, 1, 0, 0, 0, 1, 0, 0, 1], dtype=int64)"
      ]
     },
     "execution_count": 123,
     "metadata": {},
     "output_type": "execute_result"
    }
   ],
   "source": [
    "y_hat_test"
   ]
  },
  {
   "cell_type": "code",
   "execution_count": 124,
   "metadata": {},
   "outputs": [],
   "source": [
    "customer_target_temp = customer_target_test"
   ]
  },
  {
   "cell_type": "code",
   "execution_count": 125,
   "metadata": {},
   "outputs": [
    {
     "data": {
      "text/html": [
       "<div>\n",
       "<style scoped>\n",
       "    .dataframe tbody tr th:only-of-type {\n",
       "        vertical-align: middle;\n",
       "    }\n",
       "\n",
       "    .dataframe tbody tr th {\n",
       "        vertical-align: top;\n",
       "    }\n",
       "\n",
       "    .dataframe thead th {\n",
       "        text-align: right;\n",
       "    }\n",
       "</style>\n",
       "<table border=\"1\" class=\"dataframe\">\n",
       "  <thead>\n",
       "    <tr style=\"text-align: right;\">\n",
       "      <th></th>\n",
       "      <th>Unnamed: 0</th>\n",
       "      <th>profit_binary</th>\n",
       "    </tr>\n",
       "  </thead>\n",
       "  <tbody>\n",
       "    <tr>\n",
       "      <th>0</th>\n",
       "      <td>3382</td>\n",
       "      <td>0</td>\n",
       "    </tr>\n",
       "    <tr>\n",
       "      <th>1</th>\n",
       "      <td>304</td>\n",
       "      <td>1</td>\n",
       "    </tr>\n",
       "    <tr>\n",
       "      <th>2</th>\n",
       "      <td>81</td>\n",
       "      <td>0</td>\n",
       "    </tr>\n",
       "    <tr>\n",
       "      <th>3</th>\n",
       "      <td>1631</td>\n",
       "      <td>0</td>\n",
       "    </tr>\n",
       "    <tr>\n",
       "      <th>4</th>\n",
       "      <td>2836</td>\n",
       "      <td>1</td>\n",
       "    </tr>\n",
       "    <tr>\n",
       "      <th>...</th>\n",
       "      <td>...</td>\n",
       "      <td>...</td>\n",
       "    </tr>\n",
       "    <tr>\n",
       "      <th>867</th>\n",
       "      <td>277</td>\n",
       "      <td>0</td>\n",
       "    </tr>\n",
       "    <tr>\n",
       "      <th>868</th>\n",
       "      <td>954</td>\n",
       "      <td>0</td>\n",
       "    </tr>\n",
       "    <tr>\n",
       "      <th>869</th>\n",
       "      <td>3184</td>\n",
       "      <td>1</td>\n",
       "    </tr>\n",
       "    <tr>\n",
       "      <th>870</th>\n",
       "      <td>840</td>\n",
       "      <td>0</td>\n",
       "    </tr>\n",
       "    <tr>\n",
       "      <th>871</th>\n",
       "      <td>1737</td>\n",
       "      <td>1</td>\n",
       "    </tr>\n",
       "  </tbody>\n",
       "</table>\n",
       "<p>872 rows × 2 columns</p>\n",
       "</div>"
      ],
      "text/plain": [
       "     Unnamed: 0  profit_binary\n",
       "0          3382              0\n",
       "1           304              1\n",
       "2            81              0\n",
       "3          1631              0\n",
       "4          2836              1\n",
       "..          ...            ...\n",
       "867         277              0\n",
       "868         954              0\n",
       "869        3184              1\n",
       "870         840              0\n",
       "871        1737              1\n",
       "\n",
       "[872 rows x 2 columns]"
      ]
     },
     "execution_count": 125,
     "metadata": {},
     "output_type": "execute_result"
    }
   ],
   "source": [
    "customer_target_temp"
   ]
  },
  {
   "cell_type": "code",
   "execution_count": 126,
   "metadata": {},
   "outputs": [],
   "source": [
    "customer_target_temp.reset_index(drop = True,inplace = True)"
   ]
  },
  {
   "cell_type": "code",
   "execution_count": 127,
   "metadata": {},
   "outputs": [],
   "source": [
    "customer_target_temp = customer_target_temp.drop(['Unnamed: 0'],axis = 1)"
   ]
  },
  {
   "cell_type": "code",
   "execution_count": 128,
   "metadata": {},
   "outputs": [
    {
     "data": {
      "text/html": [
       "<div>\n",
       "<style scoped>\n",
       "    .dataframe tbody tr th:only-of-type {\n",
       "        vertical-align: middle;\n",
       "    }\n",
       "\n",
       "    .dataframe tbody tr th {\n",
       "        vertical-align: top;\n",
       "    }\n",
       "\n",
       "    .dataframe thead th {\n",
       "        text-align: right;\n",
       "    }\n",
       "</style>\n",
       "<table border=\"1\" class=\"dataframe\">\n",
       "  <thead>\n",
       "    <tr style=\"text-align: right;\">\n",
       "      <th></th>\n",
       "      <th>profit_binary</th>\n",
       "    </tr>\n",
       "  </thead>\n",
       "  <tbody>\n",
       "    <tr>\n",
       "      <th>0</th>\n",
       "      <td>0</td>\n",
       "    </tr>\n",
       "    <tr>\n",
       "      <th>1</th>\n",
       "      <td>1</td>\n",
       "    </tr>\n",
       "    <tr>\n",
       "      <th>2</th>\n",
       "      <td>0</td>\n",
       "    </tr>\n",
       "    <tr>\n",
       "      <th>3</th>\n",
       "      <td>0</td>\n",
       "    </tr>\n",
       "    <tr>\n",
       "      <th>4</th>\n",
       "      <td>1</td>\n",
       "    </tr>\n",
       "    <tr>\n",
       "      <th>...</th>\n",
       "      <td>...</td>\n",
       "    </tr>\n",
       "    <tr>\n",
       "      <th>867</th>\n",
       "      <td>0</td>\n",
       "    </tr>\n",
       "    <tr>\n",
       "      <th>868</th>\n",
       "      <td>0</td>\n",
       "    </tr>\n",
       "    <tr>\n",
       "      <th>869</th>\n",
       "      <td>1</td>\n",
       "    </tr>\n",
       "    <tr>\n",
       "      <th>870</th>\n",
       "      <td>0</td>\n",
       "    </tr>\n",
       "    <tr>\n",
       "      <th>871</th>\n",
       "      <td>1</td>\n",
       "    </tr>\n",
       "  </tbody>\n",
       "</table>\n",
       "<p>872 rows × 1 columns</p>\n",
       "</div>"
      ],
      "text/plain": [
       "     profit_binary\n",
       "0                0\n",
       "1                1\n",
       "2                0\n",
       "3                0\n",
       "4                1\n",
       "..             ...\n",
       "867              0\n",
       "868              0\n",
       "869              1\n",
       "870              0\n",
       "871              1\n",
       "\n",
       "[872 rows x 1 columns]"
      ]
     },
     "execution_count": 128,
     "metadata": {},
     "output_type": "execute_result"
    }
   ],
   "source": [
    "customer_target_temp"
   ]
  },
  {
   "cell_type": "code",
   "execution_count": 129,
   "metadata": {},
   "outputs": [],
   "source": [
    "# predict_proba is used to find actual probability value"
   ]
  },
  {
   "cell_type": "code",
   "execution_count": 130,
   "metadata": {},
   "outputs": [],
   "source": [
    "y_hat_test_proba = reg_p.model.predict_proba(input_test)"
   ]
  },
  {
   "cell_type": "code",
   "execution_count": 131,
   "metadata": {},
   "outputs": [],
   "source": [
    "y_hat_test_proba = y_hat_test_proba[ : ][: , 1]"
   ]
  },
  {
   "cell_type": "code",
   "execution_count": 132,
   "metadata": {},
   "outputs": [],
   "source": [
    "df_actual_predicted_probs = pd.concat([customer_target_temp,pd.DataFrame(y_hat_test_proba)],axis = 1)\n"
   ]
  },
  {
   "cell_type": "code",
   "execution_count": 133,
   "metadata": {},
   "outputs": [],
   "source": [
    "df_actual_predicted_probs.columns = ['customer_target_temp','y_hat_test_proba']"
   ]
  },
  {
   "cell_type": "code",
   "execution_count": 134,
   "metadata": {},
   "outputs": [],
   "source": [
    "df_actual_predicted_probs.index = input_test.index"
   ]
  },
  {
   "cell_type": "code",
   "execution_count": 256,
   "metadata": {},
   "outputs": [],
   "source": [
    "tr = 0.5\n",
    "# We create a new column with an indicator,\n",
    "# where every observation that has predicted probability greater than the threshold has a value of 1,\n",
    "# and every observation that has predicted probability lower than the threshold has a value of 0.\n",
    "df_actual_predicted_probs['y_hat_test_new'] = np.where(df_actual_predicted_probs['y_hat_test_proba'] > tr, 1, 0)"
   ]
  },
  {
   "cell_type": "code",
   "execution_count": 257,
   "metadata": {},
   "outputs": [],
   "source": [
    "# Confusion matrix"
   ]
  },
  {
   "cell_type": "code",
   "execution_count": 258,
   "metadata": {},
   "outputs": [
    {
     "data": {
      "text/html": [
       "<div>\n",
       "<style scoped>\n",
       "    .dataframe tbody tr th:only-of-type {\n",
       "        vertical-align: middle;\n",
       "    }\n",
       "\n",
       "    .dataframe tbody tr th {\n",
       "        vertical-align: top;\n",
       "    }\n",
       "\n",
       "    .dataframe thead th {\n",
       "        text-align: right;\n",
       "    }\n",
       "</style>\n",
       "<table border=\"1\" class=\"dataframe\">\n",
       "  <thead>\n",
       "    <tr style=\"text-align: right;\">\n",
       "      <th>predicted</th>\n",
       "      <th>0</th>\n",
       "      <th>1</th>\n",
       "    </tr>\n",
       "    <tr>\n",
       "      <th>actual</th>\n",
       "      <th></th>\n",
       "      <th></th>\n",
       "    </tr>\n",
       "  </thead>\n",
       "  <tbody>\n",
       "    <tr>\n",
       "      <th>0</th>\n",
       "      <td>268</td>\n",
       "      <td>164</td>\n",
       "    </tr>\n",
       "    <tr>\n",
       "      <th>1</th>\n",
       "      <td>216</td>\n",
       "      <td>224</td>\n",
       "    </tr>\n",
       "  </tbody>\n",
       "</table>\n",
       "</div>"
      ],
      "text/plain": [
       "predicted    0    1\n",
       "actual             \n",
       "0          268  164\n",
       "1          216  224"
      ]
     },
     "execution_count": 258,
     "metadata": {},
     "output_type": "execute_result"
    }
   ],
   "source": [
    "pd.crosstab(df_actual_predicted_probs['customer_target_temp'],df_actual_predicted_probs['y_hat_test_new'],rownames = ['actual'],colnames = ['predicted'])"
   ]
  },
  {
   "cell_type": "code",
   "execution_count": 259,
   "metadata": {},
   "outputs": [],
   "source": [
    "# ROC curve evaluation"
   ]
  },
  {
   "cell_type": "code",
   "execution_count": 260,
   "metadata": {},
   "outputs": [],
   "source": [
    "from sklearn.metrics import roc_curve, roc_auc_score"
   ]
  },
  {
   "cell_type": "code",
   "execution_count": 261,
   "metadata": {},
   "outputs": [
    {
     "data": {
      "text/plain": [
       "(array([0.        , 0.        , 0.        , 0.00231481, 0.00231481,\n",
       "        0.00462963, 0.00462963, 0.00694444, 0.00694444, 0.00925926,\n",
       "        0.00925926, 0.01388889, 0.01388889, 0.0162037 , 0.0162037 ,\n",
       "        0.01851852, 0.01851852, 0.02083333, 0.02083333, 0.02314815,\n",
       "        0.02314815, 0.02777778, 0.02777778, 0.03472222, 0.03472222,\n",
       "        0.03703704, 0.03703704, 0.04166667, 0.04166667, 0.04861111,\n",
       "        0.04861111, 0.05092593, 0.05092593, 0.05787037, 0.05787037,\n",
       "        0.06018519, 0.06018519, 0.0625    , 0.0625    , 0.06481481,\n",
       "        0.06481481, 0.06712963, 0.06712963, 0.06944444, 0.06944444,\n",
       "        0.07175926, 0.07175926, 0.07407407, 0.07407407, 0.07638889,\n",
       "        0.07638889, 0.08101852, 0.08101852, 0.08333333, 0.08333333,\n",
       "        0.08564815, 0.08564815, 0.08796296, 0.08796296, 0.09027778,\n",
       "        0.09027778, 0.09259259, 0.09259259, 0.09490741, 0.09490741,\n",
       "        0.09722222, 0.09722222, 0.09953704, 0.09953704, 0.10648148,\n",
       "        0.10648148, 0.1087963 , 0.1087963 , 0.11342593, 0.11342593,\n",
       "        0.11574074, 0.11574074, 0.12268519, 0.12268519, 0.125     ,\n",
       "        0.125     , 0.12731481, 0.12731481, 0.12962963, 0.12962963,\n",
       "        0.13657407, 0.13657407, 0.13888889, 0.13888889, 0.1412037 ,\n",
       "        0.1412037 , 0.14583333, 0.14583333, 0.15046296, 0.15046296,\n",
       "        0.15277778, 0.15277778, 0.15740741, 0.15740741, 0.16203704,\n",
       "        0.16203704, 0.16435185, 0.16435185, 0.17592593, 0.17592593,\n",
       "        0.17824074, 0.17824074, 0.18055556, 0.18055556, 0.18287037,\n",
       "        0.18287037, 0.18518519, 0.18518519, 0.1875    , 0.1875    ,\n",
       "        0.18981481, 0.18981481, 0.19212963, 0.19212963, 0.19444444,\n",
       "        0.19444444, 0.19907407, 0.19907407, 0.2037037 , 0.2037037 ,\n",
       "        0.20833333, 0.20833333, 0.21064815, 0.21064815, 0.22916667,\n",
       "        0.22916667, 0.23148148, 0.23148148, 0.2337963 , 0.2337963 ,\n",
       "        0.23842593, 0.23842593, 0.24074074, 0.24074074, 0.24537037,\n",
       "        0.24537037, 0.24768519, 0.24768519, 0.25462963, 0.25462963,\n",
       "        0.26388889, 0.26388889, 0.27314815, 0.27314815, 0.27546296,\n",
       "        0.27546296, 0.27777778, 0.27777778, 0.29166667, 0.29166667,\n",
       "        0.29398148, 0.29398148, 0.2962963 , 0.2962963 , 0.29861111,\n",
       "        0.29861111, 0.30092593, 0.30092593, 0.30324074, 0.30324074,\n",
       "        0.3125    , 0.3125    , 0.31712963, 0.31712963, 0.32175926,\n",
       "        0.32175926, 0.32407407, 0.32407407, 0.32638889, 0.32638889,\n",
       "        0.33564815, 0.33564815, 0.33796296, 0.33796296, 0.34027778,\n",
       "        0.34027778, 0.34259259, 0.34259259, 0.34490741, 0.34490741,\n",
       "        0.34722222, 0.34722222, 0.35416667, 0.35416667, 0.36111111,\n",
       "        0.36111111, 0.37037037, 0.37037037, 0.37731481, 0.37731481,\n",
       "        0.37962963, 0.37962963, 0.38425926, 0.38425926, 0.38888889,\n",
       "        0.38888889, 0.39583333, 0.39583333, 0.39814815, 0.39814815,\n",
       "        0.40509259, 0.40509259, 0.40740741, 0.40740741, 0.40972222,\n",
       "        0.40972222, 0.41898148, 0.41898148, 0.42361111, 0.42361111,\n",
       "        0.42592593, 0.42592593, 0.42824074, 0.42824074, 0.43055556,\n",
       "        0.43055556, 0.44444444, 0.44444444, 0.45138889, 0.45138889,\n",
       "        0.4537037 , 0.4537037 , 0.45601852, 0.45601852, 0.45833333,\n",
       "        0.45833333, 0.46527778, 0.46527778, 0.46990741, 0.46990741,\n",
       "        0.47222222, 0.47222222, 0.47453704, 0.47453704, 0.47685185,\n",
       "        0.47685185, 0.47916667, 0.47916667, 0.48148148, 0.48148148,\n",
       "        0.49537037, 0.49537037, 0.5       , 0.5       , 0.50694444,\n",
       "        0.50694444, 0.51388889, 0.51388889, 0.5162037 , 0.5162037 ,\n",
       "        0.51851852, 0.51851852, 0.52083333, 0.52083333, 0.52546296,\n",
       "        0.52546296, 0.53009259, 0.53009259, 0.53703704, 0.53703704,\n",
       "        0.53935185, 0.53935185, 0.54166667, 0.54166667, 0.55555556,\n",
       "        0.55555556, 0.5625    , 0.5625    , 0.56712963, 0.56712963,\n",
       "        0.56944444, 0.56944444, 0.57175926, 0.57175926, 0.57638889,\n",
       "        0.57638889, 0.58101852, 0.58101852, 0.58564815, 0.58564815,\n",
       "        0.59722222, 0.59722222, 0.60185185, 0.60185185, 0.60416667,\n",
       "        0.60416667, 0.61111111, 0.61111111, 0.61574074, 0.61574074,\n",
       "        0.61805556, 0.61805556, 0.62037037, 0.62037037, 0.62268519,\n",
       "        0.62268519, 0.62731481, 0.62731481, 0.63194444, 0.63194444,\n",
       "        0.6412037 , 0.6412037 , 0.64351852, 0.64351852, 0.65277778,\n",
       "        0.65277778, 0.65509259, 0.65509259, 0.65972222, 0.65972222,\n",
       "        0.66203704, 0.66203704, 0.66435185, 0.66435185, 0.66666667,\n",
       "        0.66666667, 0.66898148, 0.66898148, 0.67824074, 0.67824074,\n",
       "        0.68287037, 0.68287037, 0.6875    , 0.6875    , 0.68981481,\n",
       "        0.68981481, 0.69212963, 0.69212963, 0.70138889, 0.70138889,\n",
       "        0.71064815, 0.71064815, 0.71296296, 0.71296296, 0.71527778,\n",
       "        0.71527778, 0.71759259, 0.71990741, 0.71990741, 0.72222222,\n",
       "        0.72222222, 0.72916667, 0.72916667, 0.73148148, 0.73148148,\n",
       "        0.74074074, 0.74074074, 0.74305556, 0.74305556, 0.74537037,\n",
       "        0.74537037, 0.75      , 0.75      , 0.75462963, 0.75462963,\n",
       "        0.76851852, 0.76851852, 0.77083333, 0.77083333, 0.78009259,\n",
       "        0.78009259, 0.78472222, 0.78472222, 0.79166667, 0.79166667,\n",
       "        0.79398148, 0.79398148, 0.81712963, 0.81712963, 0.81944444,\n",
       "        0.81944444, 0.8287037 , 0.8287037 , 0.83101852, 0.83101852,\n",
       "        0.84027778, 0.84027778, 0.85648148, 0.85648148, 0.8587963 ,\n",
       "        0.8587963 , 0.86111111, 0.86111111, 0.875     , 0.875     ,\n",
       "        0.87962963, 0.87962963, 0.88194444, 0.88194444, 0.89583333,\n",
       "        0.89583333, 0.89814815, 0.89814815, 0.90277778, 0.90277778,\n",
       "        0.91203704, 0.91203704, 0.91666667, 0.91666667, 0.91898148,\n",
       "        0.91898148, 0.9212963 , 0.9212963 , 0.93981481, 0.93981481,\n",
       "        0.94907407, 0.94907407, 0.95601852, 0.95601852, 0.96296296,\n",
       "        0.96296296, 0.96527778, 0.96527778, 0.97222222, 0.97222222,\n",
       "        0.97916667, 0.97916667, 0.99074074, 0.99074074, 0.99537037,\n",
       "        0.99537037, 1.        ]),\n",
       " array([0.        , 0.00227273, 0.00909091, 0.00909091, 0.01590909,\n",
       "        0.01590909, 0.02045455, 0.02045455, 0.02727273, 0.02727273,\n",
       "        0.02954545, 0.02954545, 0.03181818, 0.03181818, 0.03409091,\n",
       "        0.03409091, 0.03636364, 0.03636364, 0.04090909, 0.04090909,\n",
       "        0.05      , 0.05      , 0.05227273, 0.05227273, 0.05454545,\n",
       "        0.05454545, 0.05909091, 0.05909091, 0.06590909, 0.06590909,\n",
       "        0.06818182, 0.06818182, 0.07727273, 0.07727273, 0.08181818,\n",
       "        0.08181818, 0.08636364, 0.08636364, 0.08863636, 0.08863636,\n",
       "        0.09545455, 0.09545455, 0.1       , 0.1       , 0.11363636,\n",
       "        0.11363636, 0.12045455, 0.12045455, 0.12954545, 0.12954545,\n",
       "        0.13636364, 0.13636364, 0.13863636, 0.13863636, 0.14090909,\n",
       "        0.14090909, 0.15      , 0.15      , 0.15227273, 0.15227273,\n",
       "        0.15909091, 0.15909091, 0.16136364, 0.16136364, 0.16363636,\n",
       "        0.16363636, 0.16818182, 0.16818182, 0.17045455, 0.17045455,\n",
       "        0.17954545, 0.17954545, 0.18409091, 0.18409091, 0.18863636,\n",
       "        0.18863636, 0.19545455, 0.19545455, 0.19772727, 0.19772727,\n",
       "        0.20227273, 0.20227273, 0.20681818, 0.20681818, 0.21363636,\n",
       "        0.21363636, 0.21818182, 0.21818182, 0.23409091, 0.23409091,\n",
       "        0.27045455, 0.27045455, 0.27727273, 0.27727273, 0.29545455,\n",
       "        0.29545455, 0.29772727, 0.29772727, 0.30681818, 0.30681818,\n",
       "        0.31136364, 0.31136364, 0.31590909, 0.31590909, 0.32045455,\n",
       "        0.32045455, 0.325     , 0.325     , 0.32727273, 0.32727273,\n",
       "        0.33181818, 0.33181818, 0.33409091, 0.33409091, 0.33636364,\n",
       "        0.33636364, 0.34545455, 0.34545455, 0.34772727, 0.34772727,\n",
       "        0.35      , 0.35      , 0.35454545, 0.35454545, 0.35681818,\n",
       "        0.35681818, 0.36136364, 0.36136364, 0.36818182, 0.36818182,\n",
       "        0.37045455, 0.37045455, 0.37727273, 0.37727273, 0.37954545,\n",
       "        0.37954545, 0.38181818, 0.38181818, 0.38409091, 0.38409091,\n",
       "        0.39090909, 0.39090909, 0.39318182, 0.39318182, 0.39772727,\n",
       "        0.39772727, 0.40909091, 0.40909091, 0.41136364, 0.41136364,\n",
       "        0.41590909, 0.41590909, 0.41818182, 0.41818182, 0.42954545,\n",
       "        0.42954545, 0.43181818, 0.43181818, 0.43409091, 0.43409091,\n",
       "        0.43636364, 0.43636364, 0.43863636, 0.43863636, 0.44090909,\n",
       "        0.44090909, 0.44545455, 0.44545455, 0.44772727, 0.44772727,\n",
       "        0.45227273, 0.45227273, 0.45681818, 0.45681818, 0.45909091,\n",
       "        0.45909091, 0.46590909, 0.46590909, 0.47045455, 0.47045455,\n",
       "        0.47954545, 0.47954545, 0.48181818, 0.48181818, 0.48636364,\n",
       "        0.48636364, 0.48863636, 0.48863636, 0.49090909, 0.49090909,\n",
       "        0.49545455, 0.49545455, 0.5       , 0.5       , 0.50227273,\n",
       "        0.50227273, 0.51136364, 0.51136364, 0.51363636, 0.51363636,\n",
       "        0.51590909, 0.51590909, 0.51818182, 0.51818182, 0.52272727,\n",
       "        0.52272727, 0.525     , 0.525     , 0.52727273, 0.52727273,\n",
       "        0.52954545, 0.52954545, 0.54545455, 0.54545455, 0.55      ,\n",
       "        0.55      , 0.55909091, 0.55909091, 0.56136364, 0.56136364,\n",
       "        0.56363636, 0.56363636, 0.57954545, 0.57954545, 0.58863636,\n",
       "        0.58863636, 0.59545455, 0.59545455, 0.59772727, 0.59772727,\n",
       "        0.60227273, 0.60227273, 0.60681818, 0.60681818, 0.61136364,\n",
       "        0.61136364, 0.61363636, 0.61363636, 0.62272727, 0.62272727,\n",
       "        0.625     , 0.625     , 0.62954545, 0.62954545, 0.63409091,\n",
       "        0.63409091, 0.63863636, 0.63863636, 0.64318182, 0.64318182,\n",
       "        0.64545455, 0.64545455, 0.65454545, 0.65454545, 0.65681818,\n",
       "        0.65681818, 0.66136364, 0.66136364, 0.675     , 0.675     ,\n",
       "        0.67727273, 0.67727273, 0.67954545, 0.67954545, 0.68181818,\n",
       "        0.68181818, 0.68409091, 0.68409091, 0.68636364, 0.68636364,\n",
       "        0.69090909, 0.69090909, 0.69318182, 0.69318182, 0.69545455,\n",
       "        0.69545455, 0.69772727, 0.69772727, 0.70681818, 0.70681818,\n",
       "        0.71363636, 0.71363636, 0.71590909, 0.71590909, 0.71818182,\n",
       "        0.71818182, 0.72045455, 0.72045455, 0.72272727, 0.72272727,\n",
       "        0.725     , 0.725     , 0.72954545, 0.72954545, 0.73181818,\n",
       "        0.73181818, 0.73409091, 0.73409091, 0.73863636, 0.73863636,\n",
       "        0.74090909, 0.74090909, 0.74318182, 0.74318182, 0.74545455,\n",
       "        0.74545455, 0.74772727, 0.74772727, 0.75454545, 0.75454545,\n",
       "        0.75681818, 0.75681818, 0.75909091, 0.75909091, 0.76363636,\n",
       "        0.76363636, 0.76818182, 0.76818182, 0.77045455, 0.77045455,\n",
       "        0.78181818, 0.78181818, 0.78636364, 0.78636364, 0.79545455,\n",
       "        0.79545455, 0.8       , 0.8       , 0.80454545, 0.80454545,\n",
       "        0.80909091, 0.80909091, 0.81136364, 0.81136364, 0.81363636,\n",
       "        0.81363636, 0.81590909, 0.81590909, 0.81818182, 0.81818182,\n",
       "        0.83181818, 0.83181818, 0.83409091, 0.83636364, 0.83636364,\n",
       "        0.83863636, 0.83863636, 0.84090909, 0.84090909, 0.84318182,\n",
       "        0.84318182, 0.84545455, 0.84545455, 0.85      , 0.85      ,\n",
       "        0.85227273, 0.85227273, 0.85454545, 0.85454545, 0.86136364,\n",
       "        0.86136364, 0.86590909, 0.86590909, 0.86818182, 0.86818182,\n",
       "        0.87045455, 0.87045455, 0.87727273, 0.87727273, 0.87954545,\n",
       "        0.87954545, 0.88181818, 0.88181818, 0.88409091, 0.88409091,\n",
       "        0.88863636, 0.88863636, 0.89090909, 0.89090909, 0.89772727,\n",
       "        0.89772727, 0.90227273, 0.90227273, 0.90454545, 0.90454545,\n",
       "        0.90681818, 0.90681818, 0.91363636, 0.91363636, 0.91818182,\n",
       "        0.91818182, 0.92045455, 0.92045455, 0.92272727, 0.92272727,\n",
       "        0.92954545, 0.92954545, 0.93863636, 0.93863636, 0.94090909,\n",
       "        0.94090909, 0.95227273, 0.95227273, 0.95681818, 0.95681818,\n",
       "        0.95909091, 0.95909091, 0.96363636, 0.96363636, 0.96818182,\n",
       "        0.96818182, 0.97045455, 0.97045455, 0.97272727, 0.97272727,\n",
       "        0.975     , 0.975     , 0.97727273, 0.97727273, 0.97954545,\n",
       "        0.97954545, 0.99318182, 0.99318182, 0.99545455, 0.99545455,\n",
       "        1.        , 1.        ]),\n",
       " array([1.77994541, 0.77994541, 0.73440193, 0.72545734, 0.7206383 ,\n",
       "        0.71870818, 0.71164625, 0.70607583, 0.69620626, 0.69500298,\n",
       "        0.69165012, 0.68856436, 0.68731227, 0.68691625, 0.68559057,\n",
       "        0.68426387, 0.68408709, 0.68383609, 0.68335628, 0.68217976,\n",
       "        0.66685615, 0.66535113, 0.66475045, 0.66030792, 0.65779841,\n",
       "        0.65713489, 0.65622791, 0.65473795, 0.65079967, 0.64780829,\n",
       "        0.64733683, 0.64649255, 0.64121435, 0.63633808, 0.63556757,\n",
       "        0.63317863, 0.63207267, 0.6318169 , 0.63088817, 0.63084182,\n",
       "        0.62892153, 0.625747  , 0.62230223, 0.62204208, 0.6183432 ,\n",
       "        0.61732499, 0.61529673, 0.61406077, 0.6106945 , 0.61051661,\n",
       "        0.60957222, 0.60795563, 0.60723175, 0.60715081, 0.60527525,\n",
       "        0.60518121, 0.60259774, 0.60230288, 0.60197657, 0.60107573,\n",
       "        0.59954482, 0.59875601, 0.59812365, 0.59799939, 0.59762579,\n",
       "        0.59760675, 0.59641863, 0.59524815, 0.59511945, 0.59444993,\n",
       "        0.59310035, 0.59291645, 0.59182933, 0.59089289, 0.5902726 ,\n",
       "        0.5901361 , 0.58880484, 0.58761814, 0.58703645, 0.58696434,\n",
       "        0.58520314, 0.58449804, 0.58428517, 0.58406095, 0.58340384,\n",
       "        0.58215057, 0.58060075, 0.57991368, 0.57758463, 0.57644151,\n",
       "        0.57133771, 0.57057985, 0.57023806, 0.56960828, 0.56838963,\n",
       "        0.56817558, 0.56794208, 0.56607233, 0.56439067, 0.56311894,\n",
       "        0.56275155, 0.56237845, 0.56063069, 0.55811845, 0.5574489 ,\n",
       "        0.55703359, 0.55646063, 0.55552987, 0.55549295, 0.55546529,\n",
       "        0.55474415, 0.55391788, 0.55384654, 0.5537795 , 0.55367837,\n",
       "        0.5535024 , 0.55187412, 0.5516691 , 0.55114035, 0.55047045,\n",
       "        0.55011281, 0.54973341, 0.54940033, 0.54869466, 0.5484897 ,\n",
       "        0.54789561, 0.54705467, 0.54625623, 0.5453    , 0.54246281,\n",
       "        0.54232687, 0.54174424, 0.54090836, 0.54028349, 0.53970383,\n",
       "        0.53824104, 0.53814873, 0.5378631 , 0.53779713, 0.53687836,\n",
       "        0.53662806, 0.5364066 , 0.53631482, 0.53450811, 0.53426216,\n",
       "        0.53255233, 0.52946124, 0.52772619, 0.5276489 , 0.52748131,\n",
       "        0.52728265, 0.52683338, 0.52673602, 0.52224631, 0.52017901,\n",
       "        0.51966957, 0.51966942, 0.51961963, 0.51888779, 0.51801798,\n",
       "        0.51757392, 0.51736836, 0.51681324, 0.51674797, 0.51663791,\n",
       "        0.51606827, 0.51561571, 0.51531083, 0.51493727, 0.51434273,\n",
       "        0.51402571, 0.5133487 , 0.51303524, 0.51291269, 0.51278524,\n",
       "        0.51235116, 0.5115211 , 0.51144187, 0.51074969, 0.51041   ,\n",
       "        0.50899285, 0.50872462, 0.50860743, 0.50857478, 0.50807035,\n",
       "        0.50779587, 0.50759032, 0.50649793, 0.50649616, 0.50630067,\n",
       "        0.50602838, 0.50479905, 0.50414691, 0.5030011 , 0.50295287,\n",
       "        0.50198202, 0.49907461, 0.49836459, 0.497442  , 0.4973315 ,\n",
       "        0.49717242, 0.49650007, 0.49647207, 0.49645597, 0.49538851,\n",
       "        0.49456993, 0.49451526, 0.49438521, 0.49436799, 0.49429588,\n",
       "        0.49401494, 0.49354155, 0.49242344, 0.49231023, 0.49180122,\n",
       "        0.49052806, 0.48991068, 0.48964435, 0.4895328 , 0.48945687,\n",
       "        0.48941181, 0.48845114, 0.48648551, 0.48549898, 0.48522173,\n",
       "        0.48506813, 0.48371913, 0.48303109, 0.48296502, 0.48286347,\n",
       "        0.482375  , 0.48125141, 0.48062947, 0.48024722, 0.47803483,\n",
       "        0.47736663, 0.47692921, 0.47692762, 0.47615951, 0.47596287,\n",
       "        0.4759356 , 0.47589254, 0.47554799, 0.47549394, 0.47472791,\n",
       "        0.47375835, 0.47317373, 0.47298641, 0.47255641, 0.47142439,\n",
       "        0.4710707 , 0.4698826 , 0.46921074, 0.46915986, 0.46745261,\n",
       "        0.4671906 , 0.4667138 , 0.46626528, 0.46485358, 0.46476064,\n",
       "        0.46382104, 0.46364162, 0.46357371, 0.46285723, 0.46284923,\n",
       "        0.46268538, 0.46200671, 0.46138958, 0.4601597 , 0.45931072,\n",
       "        0.45715686, 0.4570559 , 0.45681112, 0.45614433, 0.45609022,\n",
       "        0.45582578, 0.4557708 , 0.45512191, 0.4534399 , 0.45332081,\n",
       "        0.45248687, 0.45195794, 0.45179252, 0.45121829, 0.45120868,\n",
       "        0.4501528 , 0.44999116, 0.44997599, 0.44967005, 0.44944114,\n",
       "        0.44937024, 0.44857142, 0.44812111, 0.44787277, 0.44776765,\n",
       "        0.44759931, 0.44753965, 0.44734026, 0.4465868 , 0.4464617 ,\n",
       "        0.44631814, 0.44524469, 0.44500463, 0.44457198, 0.44421627,\n",
       "        0.44334577, 0.44270554, 0.44196804, 0.44168196, 0.43964417,\n",
       "        0.43950259, 0.43933364, 0.43932194, 0.43917168, 0.43908468,\n",
       "        0.43894682, 0.43815574, 0.43808447, 0.43794971, 0.43794129,\n",
       "        0.4362545 , 0.43603759, 0.43467756, 0.4341288 , 0.43352931,\n",
       "        0.43348525, 0.43302551, 0.43222458, 0.43185465, 0.43107293,\n",
       "        0.43087607, 0.43047354, 0.4304623 , 0.42996264, 0.42905168,\n",
       "        0.42744331, 0.42679888, 0.42659392, 0.42651819, 0.42609597,\n",
       "        0.42387055, 0.42359403, 0.42298442, 0.42294931, 0.42290042,\n",
       "        0.42240714, 0.42117326, 0.42112143, 0.42106567, 0.42105086,\n",
       "        0.41897997, 0.4187474 , 0.41782471, 0.41715666, 0.41583667,\n",
       "        0.41565435, 0.41470154, 0.41468188, 0.41308043, 0.41239629,\n",
       "        0.40987412, 0.40892221, 0.40851066, 0.40680686, 0.4055843 ,\n",
       "        0.40413349, 0.40324489, 0.39988465, 0.39749081, 0.39673725,\n",
       "        0.39611697, 0.39567914, 0.39081798, 0.39067616, 0.39016267,\n",
       "        0.3894117 , 0.38554777, 0.38481329, 0.38443218, 0.38408973,\n",
       "        0.38244609, 0.38197213, 0.37766966, 0.37762949, 0.37670056,\n",
       "        0.3766497 , 0.37620398, 0.37389943, 0.37302338, 0.37224091,\n",
       "        0.37171022, 0.37076557, 0.3705962 , 0.36914109, 0.36645148,\n",
       "        0.36267886, 0.36145474, 0.36086418, 0.35873626, 0.35738714,\n",
       "        0.3544326 , 0.34860377, 0.34717933, 0.346785  , 0.34627514,\n",
       "        0.34303219, 0.34159253, 0.33851308, 0.33122517, 0.32920339,\n",
       "        0.32117598, 0.32074603, 0.31896352, 0.31760913, 0.31126619,\n",
       "        0.30749034, 0.30375781, 0.30363209, 0.29982147, 0.29973343,\n",
       "        0.29842368, 0.28522594, 0.27341606, 0.26744304, 0.26151087,\n",
       "        0.2349771 , 0.20340502]))"
      ]
     },
     "execution_count": 261,
     "metadata": {},
     "output_type": "execute_result"
    }
   ],
   "source": [
    "roc_curve(df_actual_predicted_probs['customer_target_temp'],df_actual_predicted_probs['y_hat_test_proba'])"
   ]
  },
  {
   "cell_type": "code",
   "execution_count": 262,
   "metadata": {},
   "outputs": [],
   "source": [
    "fpr,tpr,thresholds = roc_curve(df_actual_predicted_probs['customer_target_temp'],df_actual_predicted_probs['y_hat_test_proba'])"
   ]
  },
  {
   "cell_type": "code",
   "execution_count": 263,
   "metadata": {},
   "outputs": [],
   "source": [
    "import matplotlib.pyplot as plt\n",
    "import seaborn as sns\n",
    "sns.set()"
   ]
  },
  {
   "cell_type": "code",
   "execution_count": 264,
   "metadata": {},
   "outputs": [
    {
     "data": {
      "text/plain": [
       "[<matplotlib.lines.Line2D at 0x2eb1307acd0>]"
      ]
     },
     "execution_count": 264,
     "metadata": {},
     "output_type": "execute_result"
    },
    {
     "data": {
      "image/png": "[encoded data removed]",
      "text/plain": [
       "<Figure size 432x288 with 1 Axes>"
      ]
     },
     "metadata": {},
     "output_type": "display_data"
    }
   ],
   "source": [
    "plt.plot(fpr,tpr)"
   ]
  },
  {
   "cell_type": "code",
   "execution_count": 265,
   "metadata": {},
   "outputs": [
    {
     "data": {
      "text/plain": [
       "Text(0.5, 1.0, 'ROC curve')"
      ]
     },
     "execution_count": 265,
     "metadata": {},
     "output_type": "execute_result"
    },
    {
     "data": {
      "image/png": "[encoded data removed]",
      "text/plain": [
       "<Figure size 432x288 with 1 Axes>"
      ]
     },
     "metadata": {},
     "output_type": "display_data"
    }
   ],
   "source": [
    "plt.plot(fpr,tpr)\n",
    "plt.plot(fpr,fpr,linestyle = '--', color = 'black')\n",
    "plt.xlabel('fpr')\n",
    "plt.ylabel('tpr')\n",
    "plt.title('ROC curve')"
   ]
  },
  {
   "cell_type": "code",
   "execution_count": 266,
   "metadata": {},
   "outputs": [
    {
     "data": {
      "text/plain": [
       "0.5977351641414141"
      ]
     },
     "execution_count": 266,
     "metadata": {},
     "output_type": "execute_result"
    }
   ],
   "source": [
    "AUroc = roc_auc_score(df_actual_predicted_probs['customer_target_temp'],df_actual_predicted_probs['y_hat_test_proba'])\n",
    "AUroc"
   ]
  },
  {
   "cell_type": "code",
   "execution_count": 267,
   "metadata": {},
   "outputs": [],
   "source": [
    "# 0.59/ about 60% is an average performance, so we try to reduce the predictors and see if the performance improves"
   ]
  },
  {
   "cell_type": "code",
   "execution_count": 268,
   "metadata": {},
   "outputs": [],
   "source": [
    "ref_categories2 = ['tenure:12-13',\n",
    "'past_3_years_bike_related_purchases:16',\n",
    "'past_3_years_bike_related_purchases:91',\n",
    "'past_3_years_bike_related_purchases:99',\n",
    "'past_3_years_bike_related_purchases:21',\n",
    "'wealth_segment:High Net Worth',\n",
    "'past_3_years_bike_related_purchases:48-50',\n",
    "'tenure:7-11',\n",
    "'Age:56-59',\n",
    "'Age:61-64',\n",
    "'property_valuation : 4',\n",
    "'past_3_years_bike_related_purchases:97-98',\n",
    "'Age:21-24',\n",
    "'Age:37-41',\n",
    "'job_industry_category:Retail',\n",
    "'wealth_segment:Mass Customer',\n",
    "'Age:53-55',\n",
    "'past_3_years_bike_related_purchases:92-95',\n",
    "'past_3_years_bike_related_purchases:88',\n",
    "'Age:49-51',\n",
    "'Age:43-45',\n",
    "'Age:15-16',\n",
    "'past_3_years_bike_related_purchases:20',\n",
    "'property_valuation : 7-9',\n",
    "'job_industry_category : IT_Retail',\n",
    "'Age:27-28',\n",
    "'past_3_years_bike_related_purchases:39',\n",
    "'state:NSW',\n",
    "'property_valuation : 12',\n",
    "'past_3_years_bike_related_purchases:14-15',\n",
    "'job_industry_category:Manufacturing',\n",
    "'past_3_years_bike_related_purchases:52-55',\n",
    "'tenure:1-3',\n",
    "'job_industry_category:unknown_category',\n",
    "'past_3_years_bike_related_purchases:57-61',\n",
    "'past_3_years_bike_related_purchases:67-68',\n",
    "'property_valuation : 1',\n",
    "'tenure:15',\n",
    "'past_3_years_bike_related_purchases:17-18',\n",
    "'tenure:14',\n",
    "'Age:18-20',\n",
    "'property_valuation : 10-12',\n",
    "'owns_car:Yes',\n",
    "'past_3_years_bike_related_purchases:10',\n",
    "'Age:29-32',\n",
    "'job_industry_category:Agri_property',\n",
    "'state:VIC',\n",
    "'Age:42',\n",
    "'past_3_years_bike_related_purchases:90',\n",
    "'past_3_years_bike_related_purchases:96',\n",
    "'Age:25-26',\n",
    "'Age:46-48',\n",
    "'tenure:4-6',\n",
    "'property_valuation : 5-6',\n",
    "'job_industry_category:Financial Services',\n",
    "'Age:52',\n",
    "'job_industry_category : Health_Entertainment',\n",
    "'Age:60',\n",
    "'tenure:16-18',\n",
    "'past_3_years_bike_related_purchases:29-33']\n"
   ]
  },
  {
   "cell_type": "code",
   "execution_count": 269,
   "metadata": {},
   "outputs": [],
   "source": [
    "input_train2 = input_train.drop(ref_categories2,axis = 1)"
   ]
  },
  {
   "cell_type": "code",
   "execution_count": 270,
   "metadata": {},
   "outputs": [],
   "source": [
    "input_test2 = input_test.drop(ref_categories2,axis = 1)"
   ]
  },
  {
   "cell_type": "code",
   "execution_count": 271,
   "metadata": {},
   "outputs": [],
   "source": [
    "reg2_p = LogisticRegression_with_p_values()"
   ]
  },
  {
   "cell_type": "code",
   "execution_count": 272,
   "metadata": {},
   "outputs": [
    {
     "name": "stderr",
     "output_type": "stream",
     "text": [
      "C:\\Users\\Balamre\\anaconda3\\lib\\site-packages\\sklearn\\utils\\validation.py:73: DataConversionWarning: A column-vector y was passed when a 1d array was expected. Please change the shape of y to (n_samples, ), for example using ravel().\n",
      "  return f(**kwargs)\n"
     ]
    }
   ],
   "source": [
    "reg2_p.fit(input_train2,customer_input_test)"
   ]
  },
  {
   "cell_type": "code",
   "execution_count": 273,
   "metadata": {},
   "outputs": [],
   "source": [
    "y_hat_test_2 = reg2_p.model.predict_proba(input_test2)"
   ]
  },
  {
   "cell_type": "code",
   "execution_count": 274,
   "metadata": {},
   "outputs": [],
   "source": [
    "y_hat_test_2 = y_hat_test_2[ : ][: , 1]"
   ]
  },
  {
   "cell_type": "code",
   "execution_count": 275,
   "metadata": {},
   "outputs": [],
   "source": [
    "df_actual_predicted_probs2 = pd.concat([customer_target_temp,pd.DataFrame(y_hat_test_2)],axis = 1)\n"
   ]
  },
  {
   "cell_type": "code",
   "execution_count": 276,
   "metadata": {},
   "outputs": [],
   "source": [
    "df_actual_predicted_probs2.columns = ['customer_target_temp','y_hat_test2']"
   ]
  },
  {
   "cell_type": "code",
   "execution_count": 277,
   "metadata": {},
   "outputs": [],
   "source": [
    "df_actual_predicted_probs2.index = input_test2.index"
   ]
  },
  {
   "cell_type": "code",
   "execution_count": 278,
   "metadata": {},
   "outputs": [],
   "source": [
    "tr = 0.5\n",
    "# We create a new column with an indicator,\n",
    "# where every observation that has predicted probability greater than the threshold has a value of 1,\n",
    "# and every observation that has predicted probability lower than the threshold has a value of 0.\n",
    "df_actual_predicted_probs2['y_hat_test_new'] = np.where(df_actual_predicted_probs2['y_hat_test2'] > tr, 1, 0)"
   ]
  },
  {
   "cell_type": "code",
   "execution_count": 279,
   "metadata": {},
   "outputs": [
    {
     "data": {
      "text/html": [
       "<div>\n",
       "<style scoped>\n",
       "    .dataframe tbody tr th:only-of-type {\n",
       "        vertical-align: middle;\n",
       "    }\n",
       "\n",
       "    .dataframe tbody tr th {\n",
       "        vertical-align: top;\n",
       "    }\n",
       "\n",
       "    .dataframe thead th {\n",
       "        text-align: right;\n",
       "    }\n",
       "</style>\n",
       "<table border=\"1\" class=\"dataframe\">\n",
       "  <thead>\n",
       "    <tr style=\"text-align: right;\">\n",
       "      <th>predicted</th>\n",
       "      <th>0</th>\n",
       "      <th>1</th>\n",
       "    </tr>\n",
       "    <tr>\n",
       "      <th>actual</th>\n",
       "      <th></th>\n",
       "      <th></th>\n",
       "    </tr>\n",
       "  </thead>\n",
       "  <tbody>\n",
       "    <tr>\n",
       "      <th>0</th>\n",
       "      <td>312</td>\n",
       "      <td>120</td>\n",
       "    </tr>\n",
       "    <tr>\n",
       "      <th>1</th>\n",
       "      <td>269</td>\n",
       "      <td>171</td>\n",
       "    </tr>\n",
       "  </tbody>\n",
       "</table>\n",
       "</div>"
      ],
      "text/plain": [
       "predicted    0    1\n",
       "actual             \n",
       "0          312  120\n",
       "1          269  171"
      ]
     },
     "execution_count": 279,
     "metadata": {},
     "output_type": "execute_result"
    }
   ],
   "source": [
    "pd.crosstab(df_actual_predicted_probs2['customer_target_temp'],df_actual_predicted_probs2['y_hat_test_new'],rownames = ['actual'],colnames = ['predicted'])"
   ]
  },
  {
   "cell_type": "code",
   "execution_count": 280,
   "metadata": {},
   "outputs": [
    {
     "data": {
      "text/plain": [
       "(array([0.        , 0.27777778, 1.        ]),\n",
       " array([0.        , 0.38863636, 1.        ]),\n",
       " array([2, 1, 0]))"
      ]
     },
     "execution_count": 280,
     "metadata": {},
     "output_type": "execute_result"
    }
   ],
   "source": [
    "roc_curve(df_actual_predicted_probs2['customer_target_temp'],df_actual_predicted_probs2['y_hat_test_new'])"
   ]
  },
  {
   "cell_type": "code",
   "execution_count": 281,
   "metadata": {},
   "outputs": [],
   "source": [
    "fpr2,tpr2,thresholds2 = roc_curve(df_actual_predicted_probs2['customer_target_temp'],df_actual_predicted_probs2['y_hat_test_new'])"
   ]
  },
  {
   "cell_type": "code",
   "execution_count": 282,
   "metadata": {},
   "outputs": [
    {
     "data": {
      "text/plain": [
       "[<matplotlib.lines.Line2D at 0x2eb131ccd00>]"
      ]
     },
     "execution_count": 282,
     "metadata": {},
     "output_type": "execute_result"
    },
    {
     "data": {
      "image/png": "[encoded data removed]",
      "text/plain": [
       "<Figure size 432x288 with 1 Axes>"
      ]
     },
     "metadata": {},
     "output_type": "display_data"
    }
   ],
   "source": [
    "plt.plot(fpr2,tpr2)"
   ]
  },
  {
   "cell_type": "code",
   "execution_count": 283,
   "metadata": {},
   "outputs": [
    {
     "data": {
      "text/plain": [
       "Text(0.5, 1.0, 'ROC curve')"
      ]
     },
     "execution_count": 283,
     "metadata": {},
     "output_type": "execute_result"
    },
    {
     "data": {
      "image/png": "[encoded data removed]",
      "text/plain": [
       "<Figure size 432x288 with 1 Axes>"
      ]
     },
     "metadata": {},
     "output_type": "display_data"
    }
   ],
   "source": [
    "plt.plot(fpr2,tpr2)\n",
    "plt.plot(fpr2,fpr2,linestyle = '--', color = 'black')\n",
    "plt.xlabel('fpr')\n",
    "plt.ylabel('tpr')\n",
    "plt.title('ROC curve')"
   ]
  },
  {
   "cell_type": "code",
   "execution_count": 284,
   "metadata": {},
   "outputs": [
    {
     "data": {
      "text/plain": [
       "0.5554292929292929"
      ]
     },
     "execution_count": 284,
     "metadata": {},
     "output_type": "execute_result"
    }
   ],
   "source": [
    "AUroc = roc_auc_score(df_actual_predicted_probs2['customer_target_temp'],df_actual_predicted_probs2['y_hat_test_new'])\n",
    "AUroc"
   ]
  },
  {
   "cell_type": "code",
   "execution_count": 285,
   "metadata": {},
   "outputs": [],
   "source": [
    "# We find the roc_area under the curve score is not improving, rather declining after reducing significant amount of predictors."
   ]
  },
  {
   "cell_type": "code",
   "execution_count": 286,
   "metadata": {},
   "outputs": [],
   "source": [
    "# Below is the clasification report along with accuracy for both set of predictors"
   ]
  },
  {
   "cell_type": "code",
   "execution_count": 287,
   "metadata": {},
   "outputs": [
    {
     "name": "stdout",
     "output_type": "stream",
     "text": [
      "Confusion Matrix:\n",
      "[[312 120]\n",
      " [269 171]]\n",
      "Classification Report:\n",
      "              precision    recall  f1-score   support\n",
      "\n",
      "           0       0.54      0.72      0.62       432\n",
      "           1       0.59      0.39      0.47       440\n",
      "\n",
      "    accuracy                           0.55       872\n",
      "   macro avg       0.56      0.56      0.54       872\n",
      "weighted avg       0.56      0.55      0.54       872\n",
      "\n",
      "Accuracy: 0.5538990825688074\n"
     ]
    }
   ],
   "source": [
    "from sklearn.metrics import classification_report, confusion_matrix, accuracy_score\n",
    "result = confusion_matrix(df_actual_predicted_probs2['customer_target_temp'],df_actual_predicted_probs2['y_hat_test_new'])\n",
    "print(\"Confusion Matrix:\")\n",
    "print(result)\n",
    "result1 = classification_report(df_actual_predicted_probs2['customer_target_temp'],df_actual_predicted_probs2['y_hat_test_new'])\n",
    "print(\"Classification Report:\",)\n",
    "print (result1)\n",
    "result2 = accuracy_score(df_actual_predicted_probs2['customer_target_temp'],df_actual_predicted_probs2['y_hat_test_new'])\n",
    "print(\"Accuracy:\",result2)"
   ]
  },
  {
   "cell_type": "code",
   "execution_count": 288,
   "metadata": {},
   "outputs": [
    {
     "name": "stdout",
     "output_type": "stream",
     "text": [
      "Confusion Matrix:\n",
      "[[268 164]\n",
      " [216 224]]\n",
      "Classification Report:\n",
      "              precision    recall  f1-score   support\n",
      "\n",
      "           0       0.55      0.62      0.59       432\n",
      "           1       0.58      0.51      0.54       440\n",
      "\n",
      "    accuracy                           0.56       872\n",
      "   macro avg       0.57      0.56      0.56       872\n",
      "weighted avg       0.57      0.56      0.56       872\n",
      "\n",
      "Accuracy: 0.5642201834862385\n"
     ]
    }
   ],
   "source": [
    "from sklearn.metrics import classification_report, confusion_matrix, accuracy_score\n",
    "result = confusion_matrix(df_actual_predicted_probs['customer_target_temp'],df_actual_predicted_probs['y_hat_test_new'])\n",
    "print(\"Confusion Matrix:\")\n",
    "print(result)\n",
    "result1 = classification_report(df_actual_predicted_probs['customer_target_temp'],df_actual_predicted_probs['y_hat_test_new'])\n",
    "print(\"Classification Report:\",)\n",
    "print (result1)\n",
    "result2 = accuracy_score(df_actual_predicted_probs['customer_target_temp'],df_actual_predicted_probs['y_hat_test_new'])\n",
    "print(\"Accuracy:\",result2)\n"
   ]
  },
  {
   "cell_type": "code",
   "execution_count": 289,
   "metadata": {},
   "outputs": [],
   "source": [
    "# Hence we conclude Logistic Regression is not a feasible model for predicting the dataset and try using random forest modelling in next aprt"
   ]
  },
  {
   "cell_type": "code",
   "execution_count": null,
   "metadata": {},
   "outputs": [],
   "source": []
  }
 ],
 "metadata": {
  "kernelspec": {
   "display_name": "Python 3",
   "language": "python",
   "name": "python3"
  },
  "language_info": {
   "codemirror_mode": {
    "name": "ipython",
    "version": 3
   },
   "file_extension": ".py",
   "mimetype": "text/x-python",
   "name": "python",
   "nbconvert_exporter": "python",
   "pygments_lexer": "ipython3",
   "version": "3.8.3"
  }
 },
 "nbformat": 4,
 "nbformat_minor": 4
}
